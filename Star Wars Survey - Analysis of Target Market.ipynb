{
 "cells": [
  {
   "cell_type": "markdown",
   "metadata": {},
   "source": [
    "# Star Wars Survey - Analysis of Target Market Demographic"
   ]
  },
  {
   "cell_type": "markdown",
   "metadata": {},
   "source": [
    "This document is designed to communicate the body of a data study which utilizes Python code and other related modules with team members that may not be fluent in such syntax. All code below can be executed right here in the notebook, and the resulting output will display on screen. These markdown sections will help describe what is happening in the analysis.\n",
    "\n",
    "This study utilizes a survey (from five-thirty-eight) assessing data on fans of the Star Wars franchise. While another study will utilize this data to assess both popular and unpopular concepts and characters for marketing purposes, this study is specifically a statistical analysis of the most favorable demographic to target in Star Wars marketing campaigns. \n",
    "\n",
    "To run this code, the following modules are used: NumPy, Pandas, Matplotlib, Scipy.stats, and finally a few stats functions that I wrote myself. Be sure to run the code line below before looking at any other cells!"
   ]
  },
  {
   "cell_type": "code",
   "execution_count": 1,
   "metadata": {},
   "outputs": [],
   "source": [
    "import numpy as np\n",
    "import pandas as pd\n",
    "from matplotlib import pyplot as plt\n",
    "from scipy.stats import chi2_contingency, norm, chi2, chisquare, ttest_ind\n",
    "import stat_functions as st"
   ]
  },
  {
   "cell_type": "markdown",
   "metadata": {},
   "source": [
    "Below is the actual csv data collected from the survey. We will here both load the csv as a dataframe object, and display some relevant information to help get us acclimated with the data."
   ]
  },
  {
   "cell_type": "code",
   "execution_count": 2,
   "metadata": {},
   "outputs": [
    {
     "name": "stdout",
     "output_type": "stream",
     "text": [
      "   RespondentID Have you seen any of the 6 films in the Star Wars franchise?  \\\n",
      "0           NaN                                           Response             \n",
      "1  3.292880e+09                                                Yes             \n",
      "2  3.292880e+09                                                 No             \n",
      "3  3.292765e+09                                                Yes             \n",
      "4  3.292763e+09                                                Yes             \n",
      "\n",
      "  Do you consider yourself to be a fan of the Star Wars film franchise?  \\\n",
      "0                                           Response                      \n",
      "1                                                Yes                      \n",
      "2                                                NaN                      \n",
      "3                                                 No                      \n",
      "4                                                Yes                      \n",
      "\n",
      "  Which of the following Star Wars films have you seen? Please select all that apply.  \\\n",
      "0           Star Wars: Episode I  The Phantom Menace                                    \n",
      "1           Star Wars: Episode I  The Phantom Menace                                    \n",
      "2                                                NaN                                    \n",
      "3           Star Wars: Episode I  The Phantom Menace                                    \n",
      "4           Star Wars: Episode I  The Phantom Menace                                    \n",
      "\n",
      "                                    Unnamed: 4  \\\n",
      "0  Star Wars: Episode II  Attack of the Clones   \n",
      "1  Star Wars: Episode II  Attack of the Clones   \n",
      "2                                          NaN   \n",
      "3  Star Wars: Episode II  Attack of the Clones   \n",
      "4  Star Wars: Episode II  Attack of the Clones   \n",
      "\n",
      "                                    Unnamed: 5  \\\n",
      "0  Star Wars: Episode III  Revenge of the Sith   \n",
      "1  Star Wars: Episode III  Revenge of the Sith   \n",
      "2                                          NaN   \n",
      "3  Star Wars: Episode III  Revenge of the Sith   \n",
      "4  Star Wars: Episode III  Revenge of the Sith   \n",
      "\n",
      "                          Unnamed: 6  \\\n",
      "0  Star Wars: Episode IV  A New Hope   \n",
      "1  Star Wars: Episode IV  A New Hope   \n",
      "2                                NaN   \n",
      "3                                NaN   \n",
      "4  Star Wars: Episode IV  A New Hope   \n",
      "\n",
      "                                     Unnamed: 7  \\\n",
      "0  Star Wars: Episode V The Empire Strikes Back   \n",
      "1  Star Wars: Episode V The Empire Strikes Back   \n",
      "2                                           NaN   \n",
      "3                                           NaN   \n",
      "4  Star Wars: Episode V The Empire Strikes Back   \n",
      "\n",
      "                                 Unnamed: 8  \\\n",
      "0  Star Wars: Episode VI Return of the Jedi   \n",
      "1  Star Wars: Episode VI Return of the Jedi   \n",
      "2                                       NaN   \n",
      "3                                       NaN   \n",
      "4  Star Wars: Episode VI Return of the Jedi   \n",
      "\n",
      "  Please rank the Star Wars films in order of preference with 1 being your favorite film in the franchise and 6 being your least favorite film.  \\\n",
      "0           Star Wars: Episode I  The Phantom Menace                                                                                              \n",
      "1                                                  3                                                                                              \n",
      "2                                                NaN                                                                                              \n",
      "3                                                  1                                                                                              \n",
      "4                                                  5                                                                                              \n",
      "\n",
      "   ...       Unnamed: 28       Which character shot first?  \\\n",
      "0  ...              Yoda                          Response   \n",
      "1  ...    Very favorably  I don't understand this question   \n",
      "2  ...               NaN                               NaN   \n",
      "3  ...  Unfamiliar (N/A)  I don't understand this question   \n",
      "4  ...    Very favorably  I don't understand this question   \n",
      "\n",
      "  Are you familiar with the Expanded Universe?  \\\n",
      "0                                     Response   \n",
      "1                                          Yes   \n",
      "2                                          NaN   \n",
      "3                                           No   \n",
      "4                                           No   \n",
      "\n",
      "  Do you consider yourself to be a fan of the Expanded Universe?æ  \\\n",
      "0                                           Response                 \n",
      "1                                                 No                 \n",
      "2                                                NaN                 \n",
      "3                                                NaN                 \n",
      "4                                                NaN                 \n",
      "\n",
      "  Do you consider yourself to be a fan of the Star Trek franchise?    Gender  \\\n",
      "0                                           Response                Response   \n",
      "1                                                 No                    Male   \n",
      "2                                                Yes                    Male   \n",
      "3                                                 No                    Male   \n",
      "4                                                Yes                    Male   \n",
      "\n",
      "        Age     Household Income                         Education  \\\n",
      "0  Response             Response                          Response   \n",
      "1     18-29                  NaN                High school degree   \n",
      "2     18-29         $0 - $24,999                   Bachelor degree   \n",
      "3     18-29         $0 - $24,999                High school degree   \n",
      "4     18-29  $100,000 - $149,999  Some college or Associate degree   \n",
      "\n",
      "  Location (Census Region)  \n",
      "0                 Response  \n",
      "1           South Atlantic  \n",
      "2       West South Central  \n",
      "3       West North Central  \n",
      "4       West North Central  \n",
      "\n",
      "[5 rows x 38 columns]\n"
     ]
    }
   ],
   "source": [
    "df = pd.read_csv('StarWars.csv', encoding = \"ISO-8859-15\")\n",
    "print(df.head())"
   ]
  },
  {
   "cell_type": "markdown",
   "metadata": {},
   "source": [
    "Below are a list of all of the questions asked in the survey (some are not assigned a name value)"
   ]
  },
  {
   "cell_type": "code",
   "execution_count": 3,
   "metadata": {},
   "outputs": [
    {
     "name": "stdout",
     "output_type": "stream",
     "text": [
      "Index(['RespondentID',\n",
      "       'Have you seen any of the 6 films in the Star Wars franchise?',\n",
      "       'Do you consider yourself to be a fan of the Star Wars film franchise?',\n",
      "       'Which of the following Star Wars films have you seen? Please select all that apply.',\n",
      "       'Unnamed: 4', 'Unnamed: 5', 'Unnamed: 6', 'Unnamed: 7', 'Unnamed: 8',\n",
      "       'Please rank the Star Wars films in order of preference with 1 being your favorite film in the franchise and 6 being your least favorite film.',\n",
      "       'Unnamed: 10', 'Unnamed: 11', 'Unnamed: 12', 'Unnamed: 13',\n",
      "       'Unnamed: 14',\n",
      "       'Please state whether you view the following characters favorably, unfavorably, or are unfamiliar with him/her.',\n",
      "       'Unnamed: 16', 'Unnamed: 17', 'Unnamed: 18', 'Unnamed: 19',\n",
      "       'Unnamed: 20', 'Unnamed: 21', 'Unnamed: 22', 'Unnamed: 23',\n",
      "       'Unnamed: 24', 'Unnamed: 25', 'Unnamed: 26', 'Unnamed: 27',\n",
      "       'Unnamed: 28', 'Which character shot first?',\n",
      "       'Are you familiar with the Expanded Universe?',\n",
      "       'Do you consider yourself to be a fan of the Expanded Universe?æ',\n",
      "       'Do you consider yourself to be a fan of the Star Trek franchise?',\n",
      "       'Gender', 'Age', 'Household Income', 'Education',\n",
      "       'Location (Census Region)'],\n",
      "      dtype='object')\n"
     ]
    }
   ],
   "source": [
    "print(df.columns)"
   ]
  },
  {
   "cell_type": "markdown",
   "metadata": {},
   "source": [
    "As can be seen above, each column in the survey dataframe represents relevant questions to identify potential fans and their demograpic data. However, it is clear that some cleaning is required. That said, there is enough complete data here to identify key demographic information. "
   ]
  },
  {
   "cell_type": "code",
   "execution_count": 4,
   "metadata": {},
   "outputs": [
    {
     "name": "stdout",
     "output_type": "stream",
     "text": [
      "['Response' 'Yes' nan 'No']\n"
     ]
    }
   ],
   "source": [
    "print(df['Do you consider yourself to be a fan of the Star Wars film franchise?'].unique())"
   ]
  },
  {
   "cell_type": "markdown",
   "metadata": {},
   "source": [
    "The first major issue here is how this important survey question was handled. This was the second question asked in the survey. The first question was simply asking if someone had even seen a Star Wars movie. If they said no, this question was left blank. For the purposes of our market research, however, someone who has never seen the movies is not considered a fan, so instead of nan, this should be a no (someone who has never seen a movie is not a fan). Here we will include a new column, 'is_fan', which will input 'Yes' if the survey response was 'Yes', or else simply 'No'. \n",
    "This will give us a better understanding of who is a fan, and who is either disinterested or actively dislikes the Star Wars franchise.\n",
    "\n",
    "Note: The answer 'Response' is irrelevant based on how the header in the dataframe was created. It is preserved for now to keep the data consistent."
   ]
  },
  {
   "cell_type": "code",
   "execution_count": 5,
   "metadata": {},
   "outputs": [],
   "source": [
    "df['is_fan'] = df.apply(lambda row: 'Yes' if row['Do you consider yourself to be a fan of the Star Wars film franchise?'] == 'Yes'\\\n",
    "                        else ('Response' if row['Do you consider yourself to be a fan of the Star Wars film franchise?'] == 'Response'\\\n",
    "                              else 'No'), axis = 1)"
   ]
  },
  {
   "cell_type": "markdown",
   "metadata": {},
   "source": [
    "## Analysis 1: Star Wars Fans by Gender"
   ]
  },
  {
   "cell_type": "markdown",
   "metadata": {},
   "source": [
    "First, we will group the number of respondents into their respective gender responses, as well as whether they are fans or not. Note that this is the total number of respondents to the survey. Included as well is a briefly calculated ratio to demonstrate the percentage of each gender that are fans."
   ]
  },
  {
   "cell_type": "code",
   "execution_count": 6,
   "metadata": {},
   "outputs": [
    {
     "name": "stdout",
     "output_type": "stream",
     "text": [
      "is_fan     No    Yes  Ratio_of_fans\n",
      "Gender                             \n",
      "Female  311.0  238.0      43.351548\n",
      "Male    194.0  303.0      60.965795\n"
     ]
    }
   ],
   "source": [
    "gender_sw_fans = df.groupby(['is_fan','Gender']).RespondentID.count().reset_index()\n",
    "gender_sw_fans_pivot = gender_sw_fans.pivot(columns= 'is_fan', index = 'Gender', values = 'RespondentID')\n",
    "gender_sw_fans_pivot.drop('Response', axis = 1, inplace = True)\n",
    "gender_sw_fans_pivot.drop('Response', axis = 0, inplace = True)\n",
    "gender_sw_fans_pivot['Ratio_of_fans'] = gender_sw_fans_pivot.apply(lambda row: (row.Yes / (row.Yes + row.No))\\\n",
    "                                                                   * 100, axis = 1)\n",
    "print(gender_sw_fans_pivot)"
   ]
  },
  {
   "cell_type": "markdown",
   "metadata": {},
   "source": [
    "It appears from a cursory glance that the male population is far more favorable to Star Wars than the population of women. However, let's first test this statistically against the null hypothesis that this is merely a random fluctuation of data. We will employ a chi squared test on this data."
   ]
  },
  {
   "cell_type": "code",
   "execution_count": 7,
   "metadata": {},
   "outputs": [
    {
     "name": "stdout",
     "output_type": "stream",
     "text": [
      "[[238.0, 311.0], [303.0, 194.0]]\n",
      "1.2474230204340131e-08\n"
     ]
    }
   ],
   "source": [
    "con_list = gender_sw_fans_pivot.loc[['Female', 'Male'],['Yes', 'No']].values.tolist()\n",
    "print(con_list)\n",
    "chi2, pval = st.chi2_homogeneity(con_list)\n",
    "print(pval)"
   ]
  },
  {
   "cell_type": "markdown",
   "metadata": {},
   "source": [
    "As the pvalue is less that 0.05, we reject the null hypothesis and assume statistical significance. Therefore, we have evidence that the distribution of fans in Star Wars favors men more than women.\n",
    "\n",
    "The sample seems to indicate that this difference is over 17%, which is substantial. Here we will calculate a confidence interval for the difference of proportions in these samples, to get an idea at 95% confidence of the true difference between men and women in terms of being Star Wars fans:"
   ]
  },
  {
   "cell_type": "code",
   "execution_count": 8,
   "metadata": {},
   "outputs": [
    {
     "name": "stdout",
     "output_type": "stream",
     "text": [
      "(0.11649559670562445, 0.23578933327498777)\n"
     ]
    }
   ],
   "source": [
    "sums = [np.sum(i) for i in con_list]\n",
    "\n",
    "ratios = gender_sw_fans_pivot['Ratio_of_fans'].values.tolist()\n",
    "good_ratios = [i/100 for i in ratios]\n",
    "\n",
    "print(st.diff_z_intv(good_ratios[1], sums[1], good_ratios[0], sums[0]))"
   ]
  },
  {
   "cell_type": "markdown",
   "metadata": {},
   "source": [
    "It appears that, from the information we have gathered, there is good evidence to assume that the difference between men and women in terms of proportion of fans in their populations is 11%-23%."
   ]
  },
  {
   "cell_type": "markdown",
   "metadata": {},
   "source": [
    "# Breakdown of fans by Age and Gender"
   ]
  },
  {
   "cell_type": "markdown",
   "metadata": {},
   "source": [
    "The code below creates a count of star wars fans as they fit within age groups. They are also separated into men and women so that we can compare these categories clearly. The ratio fan/not fan as well as the total number of yes and no responses given per age group and gender are displayed below:"
   ]
  },
  {
   "cell_type": "code",
   "execution_count": 9,
   "metadata": {
    "scrolled": true
   },
   "outputs": [
    {
     "name": "stdout",
     "output_type": "stream",
     "text": [
      "is_fan          No   Yes  Ratio of fans\n",
      "Gender Age                             \n",
      "Female 18-29  64.0  50.0      43.859649\n",
      "       30-44  77.0  59.0      43.382353\n",
      "       45-60  77.0  74.0      49.006623\n",
      "       > 60   93.0  55.0      37.162162\n",
      "Male   18-29  30.0  74.0      71.153846\n",
      "       30-44  41.0  91.0      68.939394\n",
      "       45-60  60.0  80.0      57.142857\n",
      "       > 60   63.0  58.0      47.933884\n"
     ]
    }
   ],
   "source": [
    "gender_age_fan_sw = df.groupby(['is_fan','Gender', 'Age']).RespondentID.count().reset_index().sort_values(by = ['Gender','Age'])\n",
    "\n",
    "gender_age_fan_sw_pivot = gender_age_fan_sw.pivot_table(columns='is_fan',index=['Gender', 'Age'], values = 'RespondentID')\n",
    "gender_age_fan_sw_pivot.drop('Response', axis = 1, inplace = True)\n",
    "gender_age_fan_sw_pivot.drop('Response', axis = 0, inplace = True)\n",
    "\n",
    "gender_age_fan_sw_pivot['Ratio of fans'] = gender_age_fan_sw_pivot.apply(lambda row:(row.Yes / (row.No + row.Yes)) * 100, axis = 1)\n",
    "print(gender_age_fan_sw_pivot)"
   ]
  },
  {
   "cell_type": "markdown",
   "metadata": {},
   "source": [
    "Cursorily, we can identify the highest number and ratio of favorable response among men in the 18-29 and 30-44 year old age ranges. We will now test statistical significance of the age group differences among men in these age groups:"
   ]
  },
  {
   "cell_type": "code",
   "execution_count": 10,
   "metadata": {},
   "outputs": [
    {
     "name": "stdout",
     "output_type": "stream",
     "text": [
      "[[74.0, 30.0], [91.0, 41.0], [80.0, 60.0], [58.0, 63.0]]\n",
      "0.0005426107198083925\n"
     ]
    }
   ],
   "source": [
    "gender_age_no = gender_age_fan_sw_pivot['No'].values.tolist()\n",
    "male_no = gender_age_no[4:]\n",
    "female_no = gender_age_no[:4]\n",
    "gender_age_yes = gender_age_fan_sw_pivot['Yes'].values.tolist()\n",
    "male_yes = gender_age_yes[4:]\n",
    "female_yes = gender_age_yes[:4]\n",
    "contingency_male_lists = [[a,b] for a,b in zip(male_yes, male_no)]\n",
    "print(contingency_male_lists)\n",
    "chi2, pval, dof, expected = chi2_contingency(contingency_male_lists)\n",
    "print(pval)"
   ]
  },
  {
   "cell_type": "markdown",
   "metadata": {},
   "source": [
    "The probability of the null hypothesis - that there is no significant difference in age parameters of male Star Wars fans - is about 0.05%, which is therefore rejected. We therefore find evidence for statistical significance. The ratio of fans in the 18-29 and 30-44 age groups are very close, however, and it is difficult to tell if there's any reason to assume from this data that 18-29 year olds react any more postively than 30-44 year olds. We will test this specific group now:"
   ]
  },
  {
   "cell_type": "code",
   "execution_count": 11,
   "metadata": {},
   "outputs": [
    {
     "name": "stdout",
     "output_type": "stream",
     "text": [
      "0.3563396071939904\n"
     ]
    }
   ],
   "source": [
    "zstat, pval = st.two_samp_z_test(contingency_male_lists[0], contingency_male_lists[1])\n",
    "print(pval)"
   ]
  },
  {
   "cell_type": "markdown",
   "metadata": {},
   "source": [
    "The probability of this null hypothesis is much higher, and we fail to reject. It is reasonably likely that there is no significant difference in the proportion of fans in both age groups, and that therefore the age range of 18-44 has a high proprotion of male fans.\n",
    "\n",
    "## Graphical representation of Age and Gender breakdown "
   ]
  },
  {
   "cell_type": "code",
   "execution_count": 12,
   "metadata": {
    "scrolled": true
   },
   "outputs": [
    {
     "data": {
      "image/png": "[encoded data removed]",
      "text/plain": [
       "<Figure size 1008x576 with 2 Axes>"
      ]
     },
     "metadata": {
      "needs_background": "light"
     },
     "output_type": "display_data"
    }
   ],
   "source": [
    "age_labels = ['18-29','30-44','45-60','> 60']\n",
    "plt.figure(figsize = (14,8))\n",
    "ax = plt.subplot(1,2,1)\n",
    "ax.grid(zorder = 0)\n",
    "yesx = [2 * el + (0.8 *1) for el in range(4)]\n",
    "nox = [2 * el + (0.8 * 2) for el in range(4)]\n",
    "middle = [(a + b)/2 for a,b in zip(yesx, nox)]\n",
    "plt.bar(yesx, female_yes, zorder = 3)\n",
    "plt.bar(nox, female_no, zorder =3)\n",
    "ax.set_xticks(middle)\n",
    "ax.set_xticklabels(age_labels)\n",
    "plt.ylabel('Respondents', rotation = 30, labelpad = 20)\n",
    "plt.title('Star Wars Fans by Age - Women')\n",
    "plt.legend(['Fans', 'Not Fans'])\n",
    "ax1 = plt.subplot(1,2,2)\n",
    "ax1.grid(zorder = 0)\n",
    "plt.bar(yesx, male_yes, zorder = 3)\n",
    "plt.bar(nox, male_no, zorder = 3)\n",
    "ax1.set_xticks(middle)\n",
    "ax1.set_xticklabels(age_labels)\n",
    "plt.ylabel('Respondents', rotation = 20, labelpad = 15)\n",
    "plt.title('Star Wars Fans by Age - Men')\n",
    "plt.legend(['Fans', 'Not Fans'])\n",
    "plt.savefig('Male_female_age_breakdown.png')\n",
    "plt.show()"
   ]
  },
  {
   "cell_type": "markdown",
   "metadata": {},
   "source": [
    "## Graph representation of Male Fans by Ratio"
   ]
  },
  {
   "cell_type": "code",
   "execution_count": 13,
   "metadata": {},
   "outputs": [
    {
     "data": {
      "image/png": "[encoded data removed]",
      "text/plain": [
       "<Figure size 720x576 with 1 Axes>"
      ]
     },
     "metadata": {
      "needs_background": "light"
     },
     "output_type": "display_data"
    }
   ],
   "source": [
    "ratio_fans = gender_age_fan_sw_pivot['Ratio of fans'].values.tolist()\n",
    "male_fan_ratio= ratio_fans[4:]\n",
    "plt.figure(figsize = (10,8))\n",
    "ax = plt.subplot()\n",
    "ax.grid(zorder = 0)\n",
    "plt.bar(range(len(male_fan_ratio)), male_fan_ratio, color = 'green', zorder = 3)\n",
    "ax.set_yticks([10, 20, 30, 40, 45, 50, 55, 60, 65, 70, 75])\n",
    "ax.set_yticklabels(['10%','20%','30%','40%','45%','50%','55%','60%','65%','70%','75%'])\n",
    "plt.ylabel('Ratio of fans', labelpad = 10)\n",
    "ax.set_xticks(range(len(age_labels)))\n",
    "ax.set_xticklabels(age_labels)\n",
    "plt.xlabel('Age Range', labelpad = 15)\n",
    "plt.title('Ratio of male fans by age')\n",
    "plt.savefig('Ratio_of_male_fans.png')\n",
    "plt.show()"
   ]
  },
  {
   "cell_type": "markdown",
   "metadata": {},
   "source": [
    "# Breakdown of fans by Income levels \n",
    "\n",
    "An analysis of household income ranging from under \\\\$25,000 to over \\\\$150,000 to see if a greater quantity of fans exist in any particular income bracket."
   ]
  },
  {
   "cell_type": "code",
   "execution_count": 14,
   "metadata": {},
   "outputs": [
    {
     "name": "stdout",
     "output_type": "stream",
     "text": [
      "   index     Household Income  RespondentID  Proportion of Respondents\n",
      "0      0         $0 - $24,999            61                  14.022989\n",
      "1      3    $25,000 - $49,999            84                  19.310345\n",
      "2      4    $50,000 - $99,999           156                  35.862069\n",
      "3      1  $100,000 - $149,999            79                  18.160920\n",
      "4      2            $150,000+            55                  12.643678\n"
     ]
    }
   ],
   "source": [
    "fans = df[df.is_fan == 'Yes']\n",
    "income_breakdown = fans.groupby('Household Income').RespondentID.count().reset_index().sort_values(by = 'Household Income')\n",
    "income_breakdown_clean = income_breakdown[income_breakdown['Household Income'] != 'Response']\n",
    "new_index = ['$0 - $24,999', '$25,000 - $49,999','$50,000 - $99,999 ','$100,000 - $149,999','$150,000+']\n",
    "ordered_income_breakdown = income_breakdown_clean.reindex([0, 3, 4, 1, 2]).reset_index()\n",
    "income_nums = ordered_income_breakdown.RespondentID.values.tolist()\n",
    "total =sum(income_nums)\n",
    "ordered_income_breakdown['Proportion of Respondents'] = ordered_income_breakdown.RespondentID.apply(lambda x: (x / total) * 100)\n",
    "print(ordered_income_breakdown)"
   ]
  },
  {
   "cell_type": "code",
   "execution_count": 15,
   "metadata": {},
   "outputs": [
    {
     "name": "stdout",
     "output_type": "stream",
     "text": [
      "1.894685914951163e-15\n"
     ]
    }
   ],
   "source": [
    "distribution = ordered_income_breakdown.RespondentID.values.tolist()\n",
    "chi_2, pval = chisquare(distribution)\n",
    "print(pval)"
   ]
  },
  {
   "cell_type": "markdown",
   "metadata": {},
   "source": [
    "It appears that the distribution of fans by income is not uniform, and that it follows an approximately normal distribution, with the majority of fans (about 35% of the total) in the \\\\$50,000- \\\\$99,000 range. This is expected given the age range of 18-44, which also generally falls in this distribution of income as a whole.\n",
    "\n",
    "## Graphical Representation of Income Breakdown"
   ]
  },
  {
   "cell_type": "code",
   "execution_count": 16,
   "metadata": {},
   "outputs": [
    {
     "data": {
      "image/png": "[encoded data removed]",
      "text/plain": [
       "<Figure size 864x576 with 1 Axes>"
      ]
     },
     "metadata": {
      "needs_background": "light"
     },
     "output_type": "display_data"
    }
   ],
   "source": [
    "income_nums = ordered_income_breakdown.RespondentID.values.tolist()\n",
    "plt.figure(figsize = (12,8))\n",
    "ax = plt.subplot()\n",
    "plt.bar(range(len(income_nums)), income_nums)\n",
    "labels = ordered_income_breakdown['Household Income'].values.tolist()\n",
    "ax.set_xticks(range(len(labels)))\n",
    "ax.set_xticklabels(labels)\n",
    "plt.ylabel('Respondents', rotation = 35, labelpad = 30)\n",
    "plt.xlabel('Income', labelpad = 10)\n",
    "plt.title('Star Wars Fans by Income (Annual Income)')\n",
    "plt.show()"
   ]
  },
  {
   "cell_type": "markdown",
   "metadata": {},
   "source": [
    "# Breakdown of Fans by Education Level"
   ]
  },
  {
   "cell_type": "code",
   "execution_count": 17,
   "metadata": {},
   "outputs": [
    {
     "name": "stdout",
     "output_type": "stream",
     "text": [
      "   index                     Education  RespondentID  \\\n",
      "0      3  Less than high school degree             3   \n",
      "1      2            High school degree            41   \n",
      "2      0               Bachelor degree           172   \n",
      "3      1               Graduate degree           152   \n",
      "\n",
      "   Proportion of Respondents  \n",
      "0                   0.815217  \n",
      "1                  11.141304  \n",
      "2                  46.739130  \n",
      "3                  41.304348  \n"
     ]
    }
   ],
   "source": [
    "education = fans.groupby('Education').RespondentID.count().reset_index()\n",
    "education_clean = education[education.Education != 'Response']\n",
    "\n",
    "education_ordered = education_clean.reindex([3, 2, 0, 1]).reset_index()\n",
    "\n",
    "total = sum(education_ordered.RespondentID.values)\n",
    "education_ordered['Proportion of Respondents'] = education_ordered.RespondentID.apply(lambda x: (x/total) * 100)\n",
    "print(education_ordered)"
   ]
  },
  {
   "cell_type": "markdown",
   "metadata": {},
   "source": [
    "The above data illustrates the number of fans as they are arranged by the highest level education degree they have earned. This is relatively unsurprising, given the age and income levels of the population sample surveyed. The largest concentration of fans have earned either a Bachelor's Degree or a Graduate Degree.\n",
    "\n",
    "The following data will illustrate how only the men in this survey are broken down by education level:"
   ]
  },
  {
   "cell_type": "code",
   "execution_count": 18,
   "metadata": {},
   "outputs": [
    {
     "name": "stdout",
     "output_type": "stream",
     "text": [
      "   index                     Education  RespondentID  \\\n",
      "0      3  Less than high school degree             2   \n",
      "1      2            High school degree            30   \n",
      "2      0               Bachelor degree            90   \n",
      "3      1               Graduate degree            80   \n",
      "\n",
      "   Proportion of Respondents  \n",
      "0                   0.990099  \n",
      "1                  14.851485  \n",
      "2                  44.554455  \n",
      "3                  39.603960  \n"
     ]
    }
   ],
   "source": [
    "men_fans = fans[fans.Gender == 'Male']\n",
    "education_men = men_fans.groupby('Education').RespondentID.count().reset_index()\n",
    "education_men_clean = education_men[education_men.Education != 'Response']\n",
    "ordered_men = education_men_clean.reindex([3, 2, 0, 1]).reset_index()\n",
    "total_1 = sum(ordered_men.RespondentID.values)\n",
    "ordered_men['Proportion of Respondents'] = ordered_men.RespondentID.apply(lambda x: (x/total_1) * 100)\n",
    "print(ordered_men)"
   ]
  },
  {
   "cell_type": "markdown",
   "metadata": {},
   "source": [
    "The proportion of fans appears to be very similar, indicating that there is no statistically different education level for men from the entire population. The total number of fans in both the whole sample and the male only education breakdown will be now compared with a chi squared homogeneity test:"
   ]
  },
  {
   "cell_type": "code",
   "execution_count": 19,
   "metadata": {
    "scrolled": true
   },
   "outputs": [
    {
     "name": "stdout",
     "output_type": "stream",
     "text": [
      "[[3, 41, 172, 152], [2, 30, 90, 80]]\n",
      "0.6336595585471168\n"
     ]
    }
   ],
   "source": [
    "pop_lists = [education_ordered['RespondentID'].values.tolist(), ordered_men['RespondentID'].values.tolist()]\n",
    "print(pop_lists)\n",
    "chi_2, pval = st.chi2_homogeneity(pop_lists)\n",
    "print(pval)"
   ]
  },
  {
   "cell_type": "markdown",
   "metadata": {},
   "source": [
    "Given the probability of the null hypothesis being over 5%, we fail to reject. It appears that the distribution of male fans by education level are not significanlty different from the population distribution by education level in terms of Star Wars fans.\n",
    "\n",
    "## Graph of Education Breakdown - Whole Population and Only Male"
   ]
  },
  {
   "cell_type": "code",
   "execution_count": 20,
   "metadata": {},
   "outputs": [
    {
     "data": {
      "image/png": "[encoded data removed]",
      "text/plain": [
       "<Figure size 1008x576 with 2 Axes>"
      ]
     },
     "metadata": {},
     "output_type": "display_data"
    }
   ],
   "source": [
    "plt.figure(figsize = (14,8))\n",
    "ax = plt.subplot(1,2,1)\n",
    "plt.pie(education_ordered.RespondentID.values)\n",
    "plt.axis('equal')\n",
    "plt.title('Star Wars Fans by\\n Education Level (Both Genders)')\n",
    "ax_1 = plt.subplot(1,2,2)\n",
    "plt.pie(ordered_men.RespondentID.values)\n",
    "plt.axis('equal')\n",
    "plt.title('Star Wars Fans by\\n Education Level (Men Only)')\n",
    "plt.legend(ordered_men.Education.values, loc = 2)\n",
    "plt.savefig('SWfans_education.png')\n",
    "plt.show()"
   ]
  },
  {
   "cell_type": "markdown",
   "metadata": {},
   "source": [
    "As can be shown, there is no significant apparent difference, and the vast majority of fans have a Bachelor's and/or Graduate Degree."
   ]
  },
  {
   "cell_type": "markdown",
   "metadata": {},
   "source": [
    "# Breakdown of Fans by Region"
   ]
  },
  {
   "cell_type": "markdown",
   "metadata": {},
   "source": [
    "Can it be shown that any particular region of the US has a higher concentration of fans? Here are the results as shown in the survey:"
   ]
  },
  {
   "cell_type": "code",
   "execution_count": 21,
   "metadata": {},
   "outputs": [
    {
     "name": "stdout",
     "output_type": "stream",
     "text": [
      "   index Location (Census Region)  RespondentID\n",
      "0      0       East North Central           181\n",
      "1      1       East South Central            38\n",
      "2      8       West North Central            93\n",
      "3      9       West South Central           110\n",
      "4      2          Middle Atlantic           122\n",
      "5      7           South Atlantic           170\n",
      "6      3                 Mountain            79\n",
      "7      4              New England            75\n"
     ]
    }
   ],
   "source": [
    "region = df.groupby('Location (Census Region)').RespondentID.count().reset_index()\n",
    "region_clean = region[region['Location (Census Region)'] != 'Response']\n",
    "ordered_region = region_clean.reindex([0,1,8,9,2,7,3,4]).reset_index()\n",
    "print(ordered_region)"
   ]
  },
  {
   "cell_type": "code",
   "execution_count": 22,
   "metadata": {},
   "outputs": [
    {
     "data": {
      "image/png": "[encoded data removed]",
      "text/plain": [
       "<Figure size 1008x720 with 1 Axes>"
      ]
     },
     "metadata": {
      "needs_background": "light"
     },
     "output_type": "display_data"
    }
   ],
   "source": [
    "y = ordered_region.RespondentID.values.tolist()\n",
    "x = range(len(y))\n",
    "labels = ordered_region['Location (Census Region)'].values.tolist()\n",
    "plt.figure(figsize = (14, 10))\n",
    "ax = plt.subplot()\n",
    "ax.grid(zorder = 0)\n",
    "plt.bar(x, y, zorder = 3)\n",
    "plt.xlabel('Region', labelpad = 8)\n",
    "plt.ylabel('Number of Respondents')\n",
    "ax.set_xticks(range(len(labels)))\n",
    "ax.set_xticklabels(labels, rotation = 40)\n",
    "plt.title('Breakdown of Respondents by Region')\n",
    "plt.savefig('Respondents_by_region.png')\n",
    "plt.show()"
   ]
  },
  {
   "cell_type": "code",
   "execution_count": 23,
   "metadata": {},
   "outputs": [
    {
     "name": "stdout",
     "output_type": "stream",
     "text": [
      "[181, 38, 93, 110, 122, 170, 79, 75]\n",
      "2.0711017707262145e-29\n"
     ]
    }
   ],
   "source": [
    "regions = ordered_region['RespondentID'].values.tolist()\n",
    "print(regions)\n",
    "chi_2, pval = chisquare(regions)\n",
    "print(pval)"
   ]
  },
  {
   "cell_type": "markdown",
   "metadata": {},
   "source": [
    "Analyzing the distribution of fans in these regions from the samples provided, there seems to be evidence that Star Wars fans are not evenly distributed throughout these regions. The sample data suggests there to be a higher concentration of fans in the East North Central US region, as well as the South Atlantic, and the fewest fans in the East South Central region. All other regions are much closer to evenly distributed among each other."
   ]
  },
  {
   "cell_type": "markdown",
   "metadata": {},
   "source": [
    "# Conclusion"
   ]
  },
  {
   "cell_type": "markdown",
   "metadata": {},
   "source": [
    "Based off of the study conducted, the following demographic types are the most likely to positively respond to future marketing campaigns centered on the Star Wars franchise:\n",
    "\n",
    "* Gender - Male\n",
    "* Age range - 18-44\n",
    "* Income level - \\\\$50,000 - \\\\$99,000\n",
    "* Education Level - Bachelor's Degree and higher\n",
    "* Ideal Marketing Regions - East North Central, South Atlantic\n",
    "* Least Ideal Marketing Region - East South Central\n",
    "\n",
    "We can state with confidence, based on this study, that utilizing marketing strategies known to be effective with these demographic types, focused on the regions listed, are likely to be effective."
   ]
  },
  {
   "cell_type": "markdown",
   "metadata": {},
   "source": [
    "# Recommendations following this survey study\n",
    "This survey has suggested many potential demographics that will be more highly receptive to Star Wars marketing campaigns. However, as this is a preliminary observation, it would be most appropriate to formally test this data with an A/B test, comparing marketing strategies targeting these demographics with previous ad campaign strategies. A separate consultation would be helpful, to get information on recommending an appropriate sample size for each group. For example, if a marketing campaign has been shown to have 30% success, and there is interest in seeing no less an increase than to 35% success (about a 17% lift), we can expect results with 95% confidence with 840 samples per variation."
   ]
  }
 ],
 "metadata": {
  "kernelspec": {
   "display_name": "Python 3",
   "language": "python",
   "name": "python3"
  },
  "language_info": {
   "codemirror_mode": {
    "name": "ipython",
    "version": 3
   },
   "file_extension": ".py",
   "mimetype": "text/x-python",
   "name": "python",
   "nbconvert_exporter": "python",
   "pygments_lexer": "ipython3",
   "version": "3.7.3"
  }
 },
 "nbformat": 4,
 "nbformat_minor": 2
}
