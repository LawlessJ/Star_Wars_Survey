{
 "cells": [
  {
   "cell_type": "markdown",
   "metadata": {},
   "source": [
    "# Star Wars Survey - Analysis of Target Market Demographic"
   ]
  },
  {
   "cell_type": "markdown",
   "metadata": {},
   "source": [
    "This document is designed to communicate the body of a data study which utilizes Python code and other related modules with team members that may not be fluent in such syntax. All code below can be executed right here in the notebook, and the resulting output will display on screen. These markdown sections will help describe what is happening in the analysis.\n",
    "\n",
    "This study utilizes a survey (from five-thirty-eight) assessing data on fans of the Star Wars franchise. While another study will utilize this data to assess both popular and unpopular concepts and characters for marketing purposes, this study is specifically a statistical analysis of the most favorable demographic to target in Star Wars marketing campaigns. \n",
    "\n",
    "Note that, as I was not involved in the collection of this data and am not aware of the precise methods used, for the purposes of this mock analysis I will be making assumptions that the sample is representative of the population as a whole, and that all conditions for inference are properly met (the random condition, normal condition and indepence condition). For any hypothesis tests run, I will maintain an alpha level of 0.05.\n",
    "\n",
    "To run this code, the following modules are used: NumPy, Pandas, Matplotlib, Scipy.stats, and finally a few stats functions that I wrote myself. Be sure to run the code line below before looking at any other cells!"
   ]
  },
  {
   "cell_type": "code",
   "execution_count": 1,
   "metadata": {},
   "outputs": [],
   "source": [
    "import numpy as np\n",
    "from numpy import random\n",
    "import pandas as pd\n",
    "from matplotlib import pyplot as plt\n",
    "from scipy.stats import chi2_contingency, norm, chi2, chisquare, ttest_ind\n",
    "import stat_functions as st"
   ]
  },
  {
   "cell_type": "code",
   "execution_count": 2,
   "metadata": {},
   "outputs": [],
   "source": [
    "%matplotlib inline"
   ]
  },
  {
   "cell_type": "markdown",
   "metadata": {},
   "source": [
    "Below is the actual csv data collected from the survey. We will here both load the csv as a dataframe object, and display some relevant information to help get us acclimated with the data."
   ]
  },
  {
   "cell_type": "code",
   "execution_count": 3,
   "metadata": {
    "scrolled": true
   },
   "outputs": [
    {
     "data": {
      "text/html": [
       "<div>\n",
       "<style scoped>\n",
       "    .dataframe tbody tr th:only-of-type {\n",
       "        vertical-align: middle;\n",
       "    }\n",
       "\n",
       "    .dataframe tbody tr th {\n",
       "        vertical-align: top;\n",
       "    }\n",
       "\n",
       "    .dataframe thead th {\n",
       "        text-align: right;\n",
       "    }\n",
       "</style>\n",
       "<table border=\"1\" class=\"dataframe\">\n",
       "  <thead>\n",
       "    <tr style=\"text-align: right;\">\n",
       "      <th></th>\n",
       "      <th>RespondentID</th>\n",
       "      <th>Have you seen any of the 6 films in the Star Wars franchise?</th>\n",
       "      <th>Do you consider yourself to be a fan of the Star Wars film franchise?</th>\n",
       "      <th>Which of the following Star Wars films have you seen? Please select all that apply.</th>\n",
       "      <th>Unnamed: 4</th>\n",
       "      <th>Unnamed: 5</th>\n",
       "      <th>Unnamed: 6</th>\n",
       "      <th>Unnamed: 7</th>\n",
       "      <th>Unnamed: 8</th>\n",
       "      <th>Please rank the Star Wars films in order of preference with 1 being your favorite film in the franchise and 6 being your least favorite film.</th>\n",
       "      <th>...</th>\n",
       "      <th>Unnamed: 28</th>\n",
       "      <th>Which character shot first?</th>\n",
       "      <th>Are you familiar with the Expanded Universe?</th>\n",
       "      <th>Do you consider yourself to be a fan of the Expanded Universe?æ</th>\n",
       "      <th>Do you consider yourself to be a fan of the Star Trek franchise?</th>\n",
       "      <th>Gender</th>\n",
       "      <th>Age</th>\n",
       "      <th>Household Income</th>\n",
       "      <th>Education</th>\n",
       "      <th>Location (Census Region)</th>\n",
       "    </tr>\n",
       "  </thead>\n",
       "  <tbody>\n",
       "    <tr>\n",
       "      <th>0</th>\n",
       "      <td>NaN</td>\n",
       "      <td>Response</td>\n",
       "      <td>Response</td>\n",
       "      <td>Star Wars: Episode I  The Phantom Menace</td>\n",
       "      <td>Star Wars: Episode II  Attack of the Clones</td>\n",
       "      <td>Star Wars: Episode III  Revenge of the Sith</td>\n",
       "      <td>Star Wars: Episode IV  A New Hope</td>\n",
       "      <td>Star Wars: Episode V The Empire Strikes Back</td>\n",
       "      <td>Star Wars: Episode VI Return of the Jedi</td>\n",
       "      <td>Star Wars: Episode I  The Phantom Menace</td>\n",
       "      <td>...</td>\n",
       "      <td>Yoda</td>\n",
       "      <td>Response</td>\n",
       "      <td>Response</td>\n",
       "      <td>Response</td>\n",
       "      <td>Response</td>\n",
       "      <td>Response</td>\n",
       "      <td>Response</td>\n",
       "      <td>Response</td>\n",
       "      <td>Response</td>\n",
       "      <td>Response</td>\n",
       "    </tr>\n",
       "    <tr>\n",
       "      <th>1</th>\n",
       "      <td>3.292880e+09</td>\n",
       "      <td>Yes</td>\n",
       "      <td>Yes</td>\n",
       "      <td>Star Wars: Episode I  The Phantom Menace</td>\n",
       "      <td>Star Wars: Episode II  Attack of the Clones</td>\n",
       "      <td>Star Wars: Episode III  Revenge of the Sith</td>\n",
       "      <td>Star Wars: Episode IV  A New Hope</td>\n",
       "      <td>Star Wars: Episode V The Empire Strikes Back</td>\n",
       "      <td>Star Wars: Episode VI Return of the Jedi</td>\n",
       "      <td>3</td>\n",
       "      <td>...</td>\n",
       "      <td>Very favorably</td>\n",
       "      <td>I don't understand this question</td>\n",
       "      <td>Yes</td>\n",
       "      <td>No</td>\n",
       "      <td>No</td>\n",
       "      <td>Male</td>\n",
       "      <td>18-29</td>\n",
       "      <td>NaN</td>\n",
       "      <td>High school degree</td>\n",
       "      <td>South Atlantic</td>\n",
       "    </tr>\n",
       "    <tr>\n",
       "      <th>2</th>\n",
       "      <td>3.292880e+09</td>\n",
       "      <td>No</td>\n",
       "      <td>NaN</td>\n",
       "      <td>NaN</td>\n",
       "      <td>NaN</td>\n",
       "      <td>NaN</td>\n",
       "      <td>NaN</td>\n",
       "      <td>NaN</td>\n",
       "      <td>NaN</td>\n",
       "      <td>NaN</td>\n",
       "      <td>...</td>\n",
       "      <td>NaN</td>\n",
       "      <td>NaN</td>\n",
       "      <td>NaN</td>\n",
       "      <td>NaN</td>\n",
       "      <td>Yes</td>\n",
       "      <td>Male</td>\n",
       "      <td>18-29</td>\n",
       "      <td>$0 - $24,999</td>\n",
       "      <td>Bachelor degree</td>\n",
       "      <td>West South Central</td>\n",
       "    </tr>\n",
       "    <tr>\n",
       "      <th>3</th>\n",
       "      <td>3.292765e+09</td>\n",
       "      <td>Yes</td>\n",
       "      <td>No</td>\n",
       "      <td>Star Wars: Episode I  The Phantom Menace</td>\n",
       "      <td>Star Wars: Episode II  Attack of the Clones</td>\n",
       "      <td>Star Wars: Episode III  Revenge of the Sith</td>\n",
       "      <td>NaN</td>\n",
       "      <td>NaN</td>\n",
       "      <td>NaN</td>\n",
       "      <td>1</td>\n",
       "      <td>...</td>\n",
       "      <td>Unfamiliar (N/A)</td>\n",
       "      <td>I don't understand this question</td>\n",
       "      <td>No</td>\n",
       "      <td>NaN</td>\n",
       "      <td>No</td>\n",
       "      <td>Male</td>\n",
       "      <td>18-29</td>\n",
       "      <td>$0 - $24,999</td>\n",
       "      <td>High school degree</td>\n",
       "      <td>West North Central</td>\n",
       "    </tr>\n",
       "    <tr>\n",
       "      <th>4</th>\n",
       "      <td>3.292763e+09</td>\n",
       "      <td>Yes</td>\n",
       "      <td>Yes</td>\n",
       "      <td>Star Wars: Episode I  The Phantom Menace</td>\n",
       "      <td>Star Wars: Episode II  Attack of the Clones</td>\n",
       "      <td>Star Wars: Episode III  Revenge of the Sith</td>\n",
       "      <td>Star Wars: Episode IV  A New Hope</td>\n",
       "      <td>Star Wars: Episode V The Empire Strikes Back</td>\n",
       "      <td>Star Wars: Episode VI Return of the Jedi</td>\n",
       "      <td>5</td>\n",
       "      <td>...</td>\n",
       "      <td>Very favorably</td>\n",
       "      <td>I don't understand this question</td>\n",
       "      <td>No</td>\n",
       "      <td>NaN</td>\n",
       "      <td>Yes</td>\n",
       "      <td>Male</td>\n",
       "      <td>18-29</td>\n",
       "      <td>$100,000 - $149,999</td>\n",
       "      <td>Some college or Associate degree</td>\n",
       "      <td>West North Central</td>\n",
       "    </tr>\n",
       "  </tbody>\n",
       "</table>\n",
       "<p>5 rows × 38 columns</p>\n",
       "</div>"
      ],
      "text/plain": [
       "   RespondentID Have you seen any of the 6 films in the Star Wars franchise?  \\\n",
       "0           NaN                                           Response             \n",
       "1  3.292880e+09                                                Yes             \n",
       "2  3.292880e+09                                                 No             \n",
       "3  3.292765e+09                                                Yes             \n",
       "4  3.292763e+09                                                Yes             \n",
       "\n",
       "  Do you consider yourself to be a fan of the Star Wars film franchise?  \\\n",
       "0                                           Response                      \n",
       "1                                                Yes                      \n",
       "2                                                NaN                      \n",
       "3                                                 No                      \n",
       "4                                                Yes                      \n",
       "\n",
       "  Which of the following Star Wars films have you seen? Please select all that apply.  \\\n",
       "0           Star Wars: Episode I  The Phantom Menace                                    \n",
       "1           Star Wars: Episode I  The Phantom Menace                                    \n",
       "2                                                NaN                                    \n",
       "3           Star Wars: Episode I  The Phantom Menace                                    \n",
       "4           Star Wars: Episode I  The Phantom Menace                                    \n",
       "\n",
       "                                    Unnamed: 4  \\\n",
       "0  Star Wars: Episode II  Attack of the Clones   \n",
       "1  Star Wars: Episode II  Attack of the Clones   \n",
       "2                                          NaN   \n",
       "3  Star Wars: Episode II  Attack of the Clones   \n",
       "4  Star Wars: Episode II  Attack of the Clones   \n",
       "\n",
       "                                    Unnamed: 5  \\\n",
       "0  Star Wars: Episode III  Revenge of the Sith   \n",
       "1  Star Wars: Episode III  Revenge of the Sith   \n",
       "2                                          NaN   \n",
       "3  Star Wars: Episode III  Revenge of the Sith   \n",
       "4  Star Wars: Episode III  Revenge of the Sith   \n",
       "\n",
       "                          Unnamed: 6  \\\n",
       "0  Star Wars: Episode IV  A New Hope   \n",
       "1  Star Wars: Episode IV  A New Hope   \n",
       "2                                NaN   \n",
       "3                                NaN   \n",
       "4  Star Wars: Episode IV  A New Hope   \n",
       "\n",
       "                                     Unnamed: 7  \\\n",
       "0  Star Wars: Episode V The Empire Strikes Back   \n",
       "1  Star Wars: Episode V The Empire Strikes Back   \n",
       "2                                           NaN   \n",
       "3                                           NaN   \n",
       "4  Star Wars: Episode V The Empire Strikes Back   \n",
       "\n",
       "                                 Unnamed: 8  \\\n",
       "0  Star Wars: Episode VI Return of the Jedi   \n",
       "1  Star Wars: Episode VI Return of the Jedi   \n",
       "2                                       NaN   \n",
       "3                                       NaN   \n",
       "4  Star Wars: Episode VI Return of the Jedi   \n",
       "\n",
       "  Please rank the Star Wars films in order of preference with 1 being your favorite film in the franchise and 6 being your least favorite film.  \\\n",
       "0           Star Wars: Episode I  The Phantom Menace                                                                                              \n",
       "1                                                  3                                                                                              \n",
       "2                                                NaN                                                                                              \n",
       "3                                                  1                                                                                              \n",
       "4                                                  5                                                                                              \n",
       "\n",
       "   ...       Unnamed: 28       Which character shot first?  \\\n",
       "0  ...              Yoda                          Response   \n",
       "1  ...    Very favorably  I don't understand this question   \n",
       "2  ...               NaN                               NaN   \n",
       "3  ...  Unfamiliar (N/A)  I don't understand this question   \n",
       "4  ...    Very favorably  I don't understand this question   \n",
       "\n",
       "  Are you familiar with the Expanded Universe?  \\\n",
       "0                                     Response   \n",
       "1                                          Yes   \n",
       "2                                          NaN   \n",
       "3                                           No   \n",
       "4                                           No   \n",
       "\n",
       "  Do you consider yourself to be a fan of the Expanded Universe?æ  \\\n",
       "0                                           Response                 \n",
       "1                                                 No                 \n",
       "2                                                NaN                 \n",
       "3                                                NaN                 \n",
       "4                                                NaN                 \n",
       "\n",
       "  Do you consider yourself to be a fan of the Star Trek franchise?    Gender  \\\n",
       "0                                           Response                Response   \n",
       "1                                                 No                    Male   \n",
       "2                                                Yes                    Male   \n",
       "3                                                 No                    Male   \n",
       "4                                                Yes                    Male   \n",
       "\n",
       "        Age     Household Income                         Education  \\\n",
       "0  Response             Response                          Response   \n",
       "1     18-29                  NaN                High school degree   \n",
       "2     18-29         $0 - $24,999                   Bachelor degree   \n",
       "3     18-29         $0 - $24,999                High school degree   \n",
       "4     18-29  $100,000 - $149,999  Some college or Associate degree   \n",
       "\n",
       "  Location (Census Region)  \n",
       "0                 Response  \n",
       "1           South Atlantic  \n",
       "2       West South Central  \n",
       "3       West North Central  \n",
       "4       West North Central  \n",
       "\n",
       "[5 rows x 38 columns]"
      ]
     },
     "execution_count": 3,
     "metadata": {},
     "output_type": "execute_result"
    }
   ],
   "source": [
    "df = pd.read_csv('StarWars.csv', encoding = \"ISO-8859-15\")\n",
    "df.head()"
   ]
  },
  {
   "cell_type": "markdown",
   "metadata": {},
   "source": [
    "Below are a list of all of the questions asked in the survey (some are not assigned a name value)"
   ]
  },
  {
   "cell_type": "code",
   "execution_count": 4,
   "metadata": {
    "scrolled": true
   },
   "outputs": [
    {
     "data": {
      "text/plain": [
       "Index(['RespondentID',\n",
       "       'Have you seen any of the 6 films in the Star Wars franchise?',\n",
       "       'Do you consider yourself to be a fan of the Star Wars film franchise?',\n",
       "       'Which of the following Star Wars films have you seen? Please select all that apply.',\n",
       "       'Unnamed: 4', 'Unnamed: 5', 'Unnamed: 6', 'Unnamed: 7', 'Unnamed: 8',\n",
       "       'Please rank the Star Wars films in order of preference with 1 being your favorite film in the franchise and 6 being your least favorite film.',\n",
       "       'Unnamed: 10', 'Unnamed: 11', 'Unnamed: 12', 'Unnamed: 13',\n",
       "       'Unnamed: 14',\n",
       "       'Please state whether you view the following characters favorably, unfavorably, or are unfamiliar with him/her.',\n",
       "       'Unnamed: 16', 'Unnamed: 17', 'Unnamed: 18', 'Unnamed: 19',\n",
       "       'Unnamed: 20', 'Unnamed: 21', 'Unnamed: 22', 'Unnamed: 23',\n",
       "       'Unnamed: 24', 'Unnamed: 25', 'Unnamed: 26', 'Unnamed: 27',\n",
       "       'Unnamed: 28', 'Which character shot first?',\n",
       "       'Are you familiar with the Expanded Universe?',\n",
       "       'Do you consider yourself to be a fan of the Expanded Universe?æ',\n",
       "       'Do you consider yourself to be a fan of the Star Trek franchise?',\n",
       "       'Gender', 'Age', 'Household Income', 'Education',\n",
       "       'Location (Census Region)'],\n",
       "      dtype='object')"
      ]
     },
     "execution_count": 4,
     "metadata": {},
     "output_type": "execute_result"
    }
   ],
   "source": [
    "df.columns"
   ]
  },
  {
   "cell_type": "markdown",
   "metadata": {},
   "source": [
    "As can be seen above, each column in the survey dataframe represents relevant questions to identify potential fans and their demograpic data. However, it is clear that some cleaning is required. That said, there is enough complete data here to identify key demographic information. "
   ]
  },
  {
   "cell_type": "code",
   "execution_count": 5,
   "metadata": {},
   "outputs": [
    {
     "data": {
      "text/plain": [
       "array(['Response', 'Yes', nan, 'No'], dtype=object)"
      ]
     },
     "execution_count": 5,
     "metadata": {},
     "output_type": "execute_result"
    }
   ],
   "source": [
    "df['Do you consider yourself to be a fan of the Star Wars film franchise?'].unique()"
   ]
  },
  {
   "cell_type": "markdown",
   "metadata": {},
   "source": [
    "The first major issue here is how this important survey question was handled. This was the second question asked in the survey. The first question was simply asking if someone had even seen a Star Wars movie. If they said no, this question was left blank. For the purposes of our market research, however, someone who has never seen the movies is not considered a fan, so instead of nan, this should be a no (someone who has never seen a movie is not a fan). Here we will include a new column, 'is_fan', which will input 'Yes' if the survey response was 'Yes', or else simply 'No'. \n",
    "This will give us a better understanding of who is a fan, and who is either disinterested or actively dislikes the Star Wars franchise.\n",
    "\n",
    "Note: The answer 'Response' is irrelevant based on how the header in the dataframe was created. It is preserved for now to keep the data consistent."
   ]
  },
  {
   "cell_type": "code",
   "execution_count": 6,
   "metadata": {},
   "outputs": [],
   "source": [
    "df['is_fan'] = df.apply(lambda row: 'Yes' if row['Do you consider yourself to be a fan of the Star Wars film franchise?'] == 'Yes'\\\n",
    "                        else ('Response' if row['Do you consider yourself to be a fan of the Star Wars film franchise?'] == 'Response'\\\n",
    "                              else 'No'), axis = 1)"
   ]
  },
  {
   "cell_type": "code",
   "execution_count": 7,
   "metadata": {},
   "outputs": [],
   "source": [
    "fans = df[df.is_fan == 'Yes']"
   ]
  },
  {
   "cell_type": "code",
   "execution_count": 8,
   "metadata": {
    "scrolled": true
   },
   "outputs": [
    {
     "data": {
      "text/html": [
       "<div>\n",
       "<style scoped>\n",
       "    .dataframe tbody tr th:only-of-type {\n",
       "        vertical-align: middle;\n",
       "    }\n",
       "\n",
       "    .dataframe tbody tr th {\n",
       "        vertical-align: top;\n",
       "    }\n",
       "\n",
       "    .dataframe thead th {\n",
       "        text-align: right;\n",
       "    }\n",
       "</style>\n",
       "<table border=\"1\" class=\"dataframe\">\n",
       "  <thead>\n",
       "    <tr style=\"text-align: right;\">\n",
       "      <th>is_fan</th>\n",
       "      <th>No</th>\n",
       "      <th>Response</th>\n",
       "      <th>Yes</th>\n",
       "    </tr>\n",
       "    <tr>\n",
       "      <th>Location (Census Region)</th>\n",
       "      <th></th>\n",
       "      <th></th>\n",
       "      <th></th>\n",
       "    </tr>\n",
       "  </thead>\n",
       "  <tbody>\n",
       "    <tr>\n",
       "      <th>East North Central</th>\n",
       "      <td>97.0</td>\n",
       "      <td>NaN</td>\n",
       "      <td>84.0</td>\n",
       "    </tr>\n",
       "    <tr>\n",
       "      <th>East South Central</th>\n",
       "      <td>18.0</td>\n",
       "      <td>NaN</td>\n",
       "      <td>20.0</td>\n",
       "    </tr>\n",
       "    <tr>\n",
       "      <th>Middle Atlantic</th>\n",
       "      <td>58.0</td>\n",
       "      <td>NaN</td>\n",
       "      <td>64.0</td>\n",
       "    </tr>\n",
       "    <tr>\n",
       "      <th>Mountain</th>\n",
       "      <td>30.0</td>\n",
       "      <td>NaN</td>\n",
       "      <td>49.0</td>\n",
       "    </tr>\n",
       "    <tr>\n",
       "      <th>New England</th>\n",
       "      <td>31.0</td>\n",
       "      <td>NaN</td>\n",
       "      <td>44.0</td>\n",
       "    </tr>\n",
       "    <tr>\n",
       "      <th>Pacific</th>\n",
       "      <td>89.0</td>\n",
       "      <td>NaN</td>\n",
       "      <td>86.0</td>\n",
       "    </tr>\n",
       "    <tr>\n",
       "      <th>Response</th>\n",
       "      <td>NaN</td>\n",
       "      <td>0.0</td>\n",
       "      <td>NaN</td>\n",
       "    </tr>\n",
       "    <tr>\n",
       "      <th>South Atlantic</th>\n",
       "      <td>82.0</td>\n",
       "      <td>NaN</td>\n",
       "      <td>88.0</td>\n",
       "    </tr>\n",
       "    <tr>\n",
       "      <th>West North Central</th>\n",
       "      <td>40.0</td>\n",
       "      <td>NaN</td>\n",
       "      <td>53.0</td>\n",
       "    </tr>\n",
       "    <tr>\n",
       "      <th>West South Central</th>\n",
       "      <td>57.0</td>\n",
       "      <td>NaN</td>\n",
       "      <td>53.0</td>\n",
       "    </tr>\n",
       "  </tbody>\n",
       "</table>\n",
       "</div>"
      ],
      "text/plain": [
       "is_fan                      No  Response   Yes\n",
       "Location (Census Region)                      \n",
       "East North Central        97.0       NaN  84.0\n",
       "East South Central        18.0       NaN  20.0\n",
       "Middle Atlantic           58.0       NaN  64.0\n",
       "Mountain                  30.0       NaN  49.0\n",
       "New England               31.0       NaN  44.0\n",
       "Pacific                   89.0       NaN  86.0\n",
       "Response                   NaN       0.0   NaN\n",
       "South Atlantic            82.0       NaN  88.0\n",
       "West North Central        40.0       NaN  53.0\n",
       "West South Central        57.0       NaN  53.0"
      ]
     },
     "execution_count": 8,
     "metadata": {},
     "output_type": "execute_result"
    }
   ],
   "source": [
    "df.groupby(['Location (Census Region)', 'is_fan']).RespondentID.count().unstack()"
   ]
  },
  {
   "cell_type": "markdown",
   "metadata": {},
   "source": [
    "To apply some inference to the proportions generated in this analysis, the code below is designed to generate random samples based on the sample findings, so that simulated repetitions of the survey can be repeated multiple times (usually about 1000). This permits a simulated sample distribution of a sample proportion, from which confidence intervals can be calculated."
   ]
  },
  {
   "cell_type": "code",
   "execution_count": 9,
   "metadata": {},
   "outputs": [],
   "source": [
    "def sample(df, labels, test_label, n = 1000):\n",
    "    choices = labels\n",
    "    weights = (df['Proportion of Respondents'].values / 100)\n",
    "    proportions = []\n",
    "    \n",
    "    for i in range(n):\n",
    "        simulate = pd.DataFrame({'values':np.random.choice(choices, len(fans), p=weights)})\n",
    "        proportions.append(simulate['values'].value_counts(normalize = True).loc[test_label])\n",
    "    \n",
    "    simulation = pd.DataFrame({'proportion':proportions})\n",
    "    quantiles = [simulation.proportion.quantile(0.025), simulation.proportion.quantile(0.975)]\n",
    "    simulation.hist(bins = 40, histtype = 'step', density = True, figsize = (7,4))\n",
    "    plt.title('Sample Distribution of proportion:{}'.format(test_label))\n",
    "    plt.axvline(simulation.proportion.mean(), c = 'C1', label = \"Mean\")\n",
    "    plt.axvline(quantiles[0], c = 'C1', linestyle = ':', label = '95% of distribution')\n",
    "    plt.axvline(quantiles[1], c = 'C1', linestyle = ':')\n",
    "    plt.legend()\n",
    "    print('Confidence interval for proportion: ({} - {})'.format(quantiles[0], quantiles[1]))"
   ]
  },
  {
   "cell_type": "markdown",
   "metadata": {},
   "source": [
    "## Analysis 1: Star Wars Fans by Gender"
   ]
  },
  {
   "cell_type": "markdown",
   "metadata": {},
   "source": [
    "First, we will group the number of respondents into their respective gender responses, as well as whether they are fans or not. Note that this is the total number of respondents to the survey. Included as well is a briefly calculated ratio to demonstrate the percentage of each gender that are fans."
   ]
  },
  {
   "cell_type": "code",
   "execution_count": 10,
   "metadata": {
    "scrolled": false
   },
   "outputs": [
    {
     "data": {
      "text/html": [
       "<div>\n",
       "<style scoped>\n",
       "    .dataframe tbody tr th:only-of-type {\n",
       "        vertical-align: middle;\n",
       "    }\n",
       "\n",
       "    .dataframe tbody tr th {\n",
       "        vertical-align: top;\n",
       "    }\n",
       "\n",
       "    .dataframe thead th {\n",
       "        text-align: right;\n",
       "    }\n",
       "</style>\n",
       "<table border=\"1\" class=\"dataframe\">\n",
       "  <thead>\n",
       "    <tr style=\"text-align: right;\">\n",
       "      <th>is_fan</th>\n",
       "      <th>No</th>\n",
       "      <th>Yes</th>\n",
       "      <th>Ratio of Gender that are Fans</th>\n",
       "    </tr>\n",
       "    <tr>\n",
       "      <th>Gender</th>\n",
       "      <th></th>\n",
       "      <th></th>\n",
       "      <th></th>\n",
       "    </tr>\n",
       "  </thead>\n",
       "  <tbody>\n",
       "    <tr>\n",
       "      <th>Female</th>\n",
       "      <td>311.0</td>\n",
       "      <td>238.0</td>\n",
       "      <td>43.351548</td>\n",
       "    </tr>\n",
       "    <tr>\n",
       "      <th>Male</th>\n",
       "      <td>194.0</td>\n",
       "      <td>303.0</td>\n",
       "      <td>60.965795</td>\n",
       "    </tr>\n",
       "  </tbody>\n",
       "</table>\n",
       "</div>"
      ],
      "text/plain": [
       "is_fan     No    Yes  Ratio of Gender that are Fans\n",
       "Gender                                             \n",
       "Female  311.0  238.0                      43.351548\n",
       "Male    194.0  303.0                      60.965795"
      ]
     },
     "execution_count": 10,
     "metadata": {},
     "output_type": "execute_result"
    }
   ],
   "source": [
    "gender_sw_fans = df.groupby(['is_fan','Gender']).RespondentID.count().reset_index()\n",
    "gender_sw_fans_pivot = gender_sw_fans.pivot(columns= 'is_fan', index = 'Gender', values = 'RespondentID')\n",
    "gender_sw_fans_pivot.drop('Response', axis = 1, inplace = True)\n",
    "gender_sw_fans_pivot.drop('Response', axis = 0, inplace = True)\n",
    "gender_sw_fans_pivot['Ratio of Gender that are Fans'] = gender_sw_fans_pivot.apply(lambda row:\\\n",
    "                                                        (row.Yes /(row.Yes + row.No))* 100, axis = 1)\n",
    "gender_sw_fans_pivot"
   ]
  },
  {
   "cell_type": "markdown",
   "metadata": {},
   "source": [
    "It appears cursorily that more men respond as fans than women. Let's test this mathematically using a chi-squared hypothesis test:"
   ]
  },
  {
   "cell_type": "code",
   "execution_count": 11,
   "metadata": {},
   "outputs": [
    {
     "name": "stdout",
     "output_type": "stream",
     "text": [
      "[[238.0, 311.0], [303.0, 194.0]]\n",
      "1.2474230204340131e-08\n"
     ]
    }
   ],
   "source": [
    "con_list = gender_sw_fans_pivot.loc[['Female', 'Male'],['Yes', 'No']].values.tolist()\n",
    "print(con_list)\n",
    "chi2, pval = st.chi2_homogeneity(con_list)\n",
    "print(pval)"
   ]
  },
  {
   "cell_type": "markdown",
   "metadata": {},
   "source": [
    "As the pvalue is less that 0.05, we reject the null hypothesis and assume statistical significance. Therefore, we have evidence that the distribution of fans in Star Wars favors men more than women.\n",
    "\n",
    "The sample seems to indicate that this difference is over 17%, which is substantial. Here we will calculate a confidence interval for the difference of proportions in these samples, to get an idea at 95% confidence of the true difference between men and women in terms of being Star Wars fans:"
   ]
  },
  {
   "cell_type": "code",
   "execution_count": 12,
   "metadata": {},
   "outputs": [
    {
     "name": "stdout",
     "output_type": "stream",
     "text": [
      "(0.11649559670562445, 0.23578933327498777)\n"
     ]
    }
   ],
   "source": [
    "sums = [np.sum(i) for i in con_list]\n",
    "\n",
    "ratios = gender_sw_fans_pivot['Ratio of Gender that are Fans'].values.tolist()\n",
    "good_ratios = [i/100 for i in ratios]\n",
    "\n",
    "print(st.diff_z_intv(good_ratios[1], sums[1], good_ratios[0], sums[0]))"
   ]
  },
  {
   "cell_type": "markdown",
   "metadata": {},
   "source": [
    "It appears that, from the information we have gathered, there is good evidence to assume that the difference between men and women in terms of proportion of fans in their populations is around 11.5%-23.5%."
   ]
  },
  {
   "cell_type": "markdown",
   "metadata": {},
   "source": [
    "# Breakdown of fans by Age and Gender"
   ]
  },
  {
   "cell_type": "markdown",
   "metadata": {},
   "source": [
    "The code below creates a count of star wars fans as they fit within age groups. They are also separated into men and women so that we can compare these categories clearly. The ratio fan/not fan as well as the total number of yes and no responses given per age group and gender are displayed below:"
   ]
  },
  {
   "cell_type": "code",
   "execution_count": 13,
   "metadata": {
    "scrolled": false
   },
   "outputs": [
    {
     "data": {
      "text/html": [
       "<div>\n",
       "<style scoped>\n",
       "    .dataframe tbody tr th:only-of-type {\n",
       "        vertical-align: middle;\n",
       "    }\n",
       "\n",
       "    .dataframe tbody tr th {\n",
       "        vertical-align: top;\n",
       "    }\n",
       "\n",
       "    .dataframe thead th {\n",
       "        text-align: right;\n",
       "    }\n",
       "</style>\n",
       "<table border=\"1\" class=\"dataframe\">\n",
       "  <thead>\n",
       "    <tr style=\"text-align: right;\">\n",
       "      <th></th>\n",
       "      <th>is_fan</th>\n",
       "      <th>No</th>\n",
       "      <th>Yes</th>\n",
       "      <th>Ratio that are Fans</th>\n",
       "    </tr>\n",
       "    <tr>\n",
       "      <th>Gender</th>\n",
       "      <th>Age</th>\n",
       "      <th></th>\n",
       "      <th></th>\n",
       "      <th></th>\n",
       "    </tr>\n",
       "  </thead>\n",
       "  <tbody>\n",
       "    <tr>\n",
       "      <th rowspan=\"4\" valign=\"top\">Female</th>\n",
       "      <th>18-29</th>\n",
       "      <td>64.0</td>\n",
       "      <td>50.0</td>\n",
       "      <td>43.859649</td>\n",
       "    </tr>\n",
       "    <tr>\n",
       "      <th>30-44</th>\n",
       "      <td>77.0</td>\n",
       "      <td>59.0</td>\n",
       "      <td>43.382353</td>\n",
       "    </tr>\n",
       "    <tr>\n",
       "      <th>45-60</th>\n",
       "      <td>77.0</td>\n",
       "      <td>74.0</td>\n",
       "      <td>49.006623</td>\n",
       "    </tr>\n",
       "    <tr>\n",
       "      <th>&gt; 60</th>\n",
       "      <td>93.0</td>\n",
       "      <td>55.0</td>\n",
       "      <td>37.162162</td>\n",
       "    </tr>\n",
       "    <tr>\n",
       "      <th rowspan=\"4\" valign=\"top\">Male</th>\n",
       "      <th>18-29</th>\n",
       "      <td>30.0</td>\n",
       "      <td>74.0</td>\n",
       "      <td>71.153846</td>\n",
       "    </tr>\n",
       "    <tr>\n",
       "      <th>30-44</th>\n",
       "      <td>41.0</td>\n",
       "      <td>91.0</td>\n",
       "      <td>68.939394</td>\n",
       "    </tr>\n",
       "    <tr>\n",
       "      <th>45-60</th>\n",
       "      <td>60.0</td>\n",
       "      <td>80.0</td>\n",
       "      <td>57.142857</td>\n",
       "    </tr>\n",
       "    <tr>\n",
       "      <th>&gt; 60</th>\n",
       "      <td>63.0</td>\n",
       "      <td>58.0</td>\n",
       "      <td>47.933884</td>\n",
       "    </tr>\n",
       "  </tbody>\n",
       "</table>\n",
       "</div>"
      ],
      "text/plain": [
       "is_fan          No   Yes  Ratio that are Fans\n",
       "Gender Age                                   \n",
       "Female 18-29  64.0  50.0            43.859649\n",
       "       30-44  77.0  59.0            43.382353\n",
       "       45-60  77.0  74.0            49.006623\n",
       "       > 60   93.0  55.0            37.162162\n",
       "Male   18-29  30.0  74.0            71.153846\n",
       "       30-44  41.0  91.0            68.939394\n",
       "       45-60  60.0  80.0            57.142857\n",
       "       > 60   63.0  58.0            47.933884"
      ]
     },
     "execution_count": 13,
     "metadata": {},
     "output_type": "execute_result"
    }
   ],
   "source": [
    "gender_age_fan_sw = df.groupby(['is_fan','Gender', 'Age']).RespondentID.count().reset_index().sort_values\\\n",
    "(by = ['Gender','Age'])\n",
    "\n",
    "gender_age_fan_sw_pivot = gender_age_fan_sw.pivot_table(columns='is_fan',\\\n",
    "                                                        index=['Gender', 'Age'], values = 'RespondentID')\n",
    "gender_age_fan_sw_pivot.drop('Response', axis = 1, inplace = True)\n",
    "gender_age_fan_sw_pivot.drop('Response', axis = 0, inplace = True)\n",
    "\n",
    "gender_age_fan_sw_pivot['Ratio that are Fans'] = gender_age_fan_sw_pivot.apply(lambda row:\\\n",
    "                                                                    (row.Yes /((row.Yes + row.No))) * 100, axis = 1)\n",
    "gender_age_fan_sw_pivot"
   ]
  },
  {
   "cell_type": "markdown",
   "metadata": {},
   "source": [
    "Cursorily, we can identify the highest number and ratio of favorable response among men in the 18-29 and 30-44 year old age ranges. We will now test statistical significance of the age group differences among men in these age groups:"
   ]
  },
  {
   "cell_type": "code",
   "execution_count": 14,
   "metadata": {},
   "outputs": [
    {
     "name": "stdout",
     "output_type": "stream",
     "text": [
      "[[74.0, 30.0], [91.0, 41.0], [80.0, 60.0], [58.0, 63.0]]\n",
      "0.0005426107198083925\n"
     ]
    }
   ],
   "source": [
    "gender_age_no = gender_age_fan_sw_pivot['No'].values.tolist()\n",
    "male_no = gender_age_no[4:]\n",
    "female_no = gender_age_no[:4]\n",
    "gender_age_yes = gender_age_fan_sw_pivot['Yes'].values.tolist()\n",
    "male_yes = gender_age_yes[4:]\n",
    "female_yes = gender_age_yes[:4]\n",
    "contingency_male_lists = [[a,b] for a,b in zip(male_yes, male_no)]\n",
    "print(contingency_male_lists)\n",
    "chi2, pval, dof, expected = chi2_contingency(contingency_male_lists)\n",
    "print(pval)"
   ]
  },
  {
   "cell_type": "markdown",
   "metadata": {},
   "source": [
    "The probability of the null hypothesis - that there is no significant difference in age parameters of male Star Wars fans - is about 0.05%, which is therefore rejected. We therefore find evidence for statistical significance. The ratio of fans in the 18-29 and 30-44 age groups are very close, however, and it is difficult to tell if there's any reason to assume from this data that 18-29 year olds react any more postively than 30-44 year olds. \n",
    "\n",
    "We will test this specific group now with a two sample z test, against a null hypothesis that the actual difference between these two proportions in the population is 0:"
   ]
  },
  {
   "cell_type": "code",
   "execution_count": 15,
   "metadata": {},
   "outputs": [
    {
     "name": "stdout",
     "output_type": "stream",
     "text": [
      "0.3563396071939904\n"
     ]
    }
   ],
   "source": [
    "zstat, pval = st.two_samp_z_test(contingency_male_lists[0], contingency_male_lists[1])\n",
    "print(pval)"
   ]
  },
  {
   "cell_type": "markdown",
   "metadata": {},
   "source": [
    "The probability of this null hypothesis is much higher, and we fail to reject. It is reasonably likely that there is no significant difference in the proportion of fans in both age groups, and that therefore the age range of 18-44 has a high proprotion of male fans.\n",
    "\n",
    "## Graphical representation of Age and Gender breakdown "
   ]
  },
  {
   "cell_type": "code",
   "execution_count": 16,
   "metadata": {
    "scrolled": true
   },
   "outputs": [
    {
     "data": {
      "image/png": "[encoded data removed]",
      "text/plain": [
       "<Figure size 1008x576 with 2 Axes>"
      ]
     },
     "metadata": {
      "needs_background": "light"
     },
     "output_type": "display_data"
    }
   ],
   "source": [
    "age_labels = ['18-29','30-44','45-60','> 60']\n",
    "plt.figure(figsize = (14,8))\n",
    "ax = plt.subplot(1,2,1)\n",
    "ax.grid(zorder = 0)\n",
    "yesx = [2 * el + (0.8 *1) for el in range(4)]\n",
    "nox = [2 * el + (0.8 * 2) for el in range(4)]\n",
    "middle = [(a + b)/2 for a,b in zip(yesx, nox)]\n",
    "plt.bar(yesx, female_yes, zorder = 3)\n",
    "plt.bar(nox, female_no, zorder =3)\n",
    "ax.set_xticks(middle)\n",
    "ax.set_xticklabels(age_labels)\n",
    "plt.ylabel('Respondents', rotation = 30, labelpad = 20)\n",
    "plt.title('Star Wars Fans by Age - Women')\n",
    "plt.legend(['Fans', 'Not Fans'])\n",
    "ax1 = plt.subplot(1,2,2)\n",
    "ax1.grid(zorder = 0)\n",
    "plt.bar(yesx, male_yes, zorder = 3)\n",
    "plt.bar(nox, male_no, zorder = 3)\n",
    "ax1.set_xticks(middle)\n",
    "ax1.set_xticklabels(age_labels)\n",
    "plt.ylabel('Respondents', rotation = 20, labelpad = 15)\n",
    "plt.title('Star Wars Fans by Age - Men')\n",
    "plt.legend(['Fans', 'Not Fans'])\n",
    "#plt.savefig('Male_female_age_breakdown.png')\n",
    "plt.show()"
   ]
  },
  {
   "cell_type": "markdown",
   "metadata": {},
   "source": [
    "## Graph representation of Male Fans by Ratio"
   ]
  },
  {
   "cell_type": "code",
   "execution_count": 17,
   "metadata": {},
   "outputs": [
    {
     "data": {
      "image/png": "[encoded data removed]",
      "text/plain": [
       "<Figure size 720x576 with 1 Axes>"
      ]
     },
     "metadata": {
      "needs_background": "light"
     },
     "output_type": "display_data"
    }
   ],
   "source": [
    "ratio_fans = gender_age_fan_sw_pivot['Ratio that are Fans'].values.tolist()\n",
    "male_fan_ratio= ratio_fans[4:]\n",
    "plt.figure(figsize = (10,8))\n",
    "ax = plt.subplot()\n",
    "ax.grid(zorder = 0)\n",
    "plt.bar(range(len(male_fan_ratio)), male_fan_ratio, color = 'green', zorder = 3)\n",
    "ax.set_yticks([10, 20, 30, 40, 45, 50, 55, 60, 65, 70, 75])\n",
    "ax.set_yticklabels(['10%','20%','30%','40%','45%','50%','55%','60%','65%','70%','75%'])\n",
    "plt.ylabel('Ratio of fans', labelpad = 10)\n",
    "ax.set_xticks(range(len(age_labels)))\n",
    "ax.set_xticklabels(age_labels)\n",
    "plt.xlabel('Age Range', labelpad = 15)\n",
    "plt.title('Ratio of male fans by age')\n",
    "#plt.savefig('Ratio_of_male_fans.png')\n",
    "plt.show()"
   ]
  },
  {
   "cell_type": "markdown",
   "metadata": {},
   "source": [
    "# Breakdown of fans by Income levels \n",
    "\n",
    "An analysis of household income ranging from under \\\\$25,000 to over \\\\$150,000 to see if a greater quantity of fans exist in any particular income bracket."
   ]
  },
  {
   "cell_type": "code",
   "execution_count": 18,
   "metadata": {},
   "outputs": [
    {
     "data": {
      "text/html": [
       "<div>\n",
       "<style scoped>\n",
       "    .dataframe tbody tr th:only-of-type {\n",
       "        vertical-align: middle;\n",
       "    }\n",
       "\n",
       "    .dataframe tbody tr th {\n",
       "        vertical-align: top;\n",
       "    }\n",
       "\n",
       "    .dataframe thead th {\n",
       "        text-align: right;\n",
       "    }\n",
       "</style>\n",
       "<table border=\"1\" class=\"dataframe\">\n",
       "  <thead>\n",
       "    <tr style=\"text-align: right;\">\n",
       "      <th></th>\n",
       "      <th>Household Income</th>\n",
       "      <th>Total_Respondents</th>\n",
       "      <th>Proportion of Respondents</th>\n",
       "    </tr>\n",
       "  </thead>\n",
       "  <tbody>\n",
       "    <tr>\n",
       "      <th>0</th>\n",
       "      <td>$0 - $24,999</td>\n",
       "      <td>61</td>\n",
       "      <td>14.022989</td>\n",
       "    </tr>\n",
       "    <tr>\n",
       "      <th>1</th>\n",
       "      <td>$25,000 - $49,999</td>\n",
       "      <td>84</td>\n",
       "      <td>19.310345</td>\n",
       "    </tr>\n",
       "    <tr>\n",
       "      <th>2</th>\n",
       "      <td>$50,000 - $99,999</td>\n",
       "      <td>156</td>\n",
       "      <td>35.862069</td>\n",
       "    </tr>\n",
       "    <tr>\n",
       "      <th>3</th>\n",
       "      <td>$100,000 - $149,999</td>\n",
       "      <td>79</td>\n",
       "      <td>18.160920</td>\n",
       "    </tr>\n",
       "    <tr>\n",
       "      <th>4</th>\n",
       "      <td>$150,000+</td>\n",
       "      <td>55</td>\n",
       "      <td>12.643678</td>\n",
       "    </tr>\n",
       "  </tbody>\n",
       "</table>\n",
       "</div>"
      ],
      "text/plain": [
       "      Household Income  Total_Respondents  Proportion of Respondents\n",
       "0         $0 - $24,999                 61                  14.022989\n",
       "1    $25,000 - $49,999                 84                  19.310345\n",
       "2    $50,000 - $99,999                156                  35.862069\n",
       "3  $100,000 - $149,999                 79                  18.160920\n",
       "4            $150,000+                 55                  12.643678"
      ]
     },
     "execution_count": 18,
     "metadata": {},
     "output_type": "execute_result"
    }
   ],
   "source": [
    "income_breakdown = fans.groupby('Household Income').RespondentID.count().reset_index().sort_values(by = 'Household Income')\n",
    "income_breakdown_clean = income_breakdown[income_breakdown['Household Income'] != 'Response']\n",
    "new_index = ['$0 - $24,999', '$25,000 - $49,999','$50,000 - $99,999 ','$100,000 - $149,999','$150,000+']\n",
    "ordered_income_breakdown = income_breakdown_clean.reindex([0, 3, 4, 1, 2]).reset_index()\n",
    "income_nums = ordered_income_breakdown.RespondentID.values.tolist()\n",
    "total =sum(income_nums)\n",
    "ordered_income_breakdown['Proportion of Respondents'] = ordered_income_breakdown.RespondentID.apply\\\n",
    "(lambda x: (x / total) * 100)\n",
    "\n",
    "ordered_income_breakdown.rename(columns = {'RespondentID':'Total_Respondents'}, inplace = True)\n",
    "ordered_income_breakdown.drop('index', axis = 1)"
   ]
  },
  {
   "cell_type": "code",
   "execution_count": 19,
   "metadata": {
    "scrolled": true
   },
   "outputs": [
    {
     "name": "stdout",
     "output_type": "stream",
     "text": [
      "1.894685914951163e-15\n"
     ]
    }
   ],
   "source": [
    "distribution = ordered_income_breakdown.Total_Respondents.values.tolist()\n",
    "chi_2, pval = chisquare(distribution)\n",
    "print(pval)"
   ]
  },
  {
   "cell_type": "code",
   "execution_count": 20,
   "metadata": {
    "scrolled": true
   },
   "outputs": [
    {
     "name": "stdout",
     "output_type": "stream",
     "text": [
      "Confidence interval for proportion: (0.3188405797101449 - 0.39855072463768115)\n"
     ]
    },
    {
     "data": {
      "image/png": "[encoded data removed]",
      "text/plain": [
       "<Figure size 504x288 with 1 Axes>"
      ]
     },
     "metadata": {
      "needs_background": "light"
     },
     "output_type": "display_data"
    }
   ],
   "source": [
    "sample(ordered_income_breakdown,ordered_income_breakdown['Household Income'],\n",
    "                                                         ordered_income_breakdown['Household Income'][2])"
   ]
  },
  {
   "cell_type": "code",
   "execution_count": 21,
   "metadata": {},
   "outputs": [
    {
     "data": {
      "text/plain": [
       "(0.31861205820341776, 0.39862932110692706)"
      ]
     },
     "execution_count": 21,
     "metadata": {},
     "output_type": "execute_result"
    }
   ],
   "source": [
    "st.z_conf_intv((ordered_income_breakdown['Proportion of Respondents'][2] / 100), len(fans))"
   ]
  },
  {
   "cell_type": "markdown",
   "metadata": {},
   "source": [
    "It appears that the distribution of fans by income is not uniform, and that it follows an approximately normal distribution, with the majority of fans in the \\\\$50,000- \\\\$99,000 range. Using both a simulated sample distribution of the sample proportion and a mathematical evaluation of the sample proportion, it appears that our 95% confidence interval for this proportion lies between about 32% to 40%.\n",
    "\n",
    "This is expected given the age range of 18-44, which also generally falls in this distribution of income as a whole.\n",
    "\n",
    "## Graphical Representation of Income Breakdown"
   ]
  },
  {
   "cell_type": "code",
   "execution_count": 22,
   "metadata": {},
   "outputs": [
    {
     "data": {
      "image/png": "[encoded data removed]",
      "text/plain": [
       "<Figure size 864x576 with 1 Axes>"
      ]
     },
     "metadata": {
      "needs_background": "light"
     },
     "output_type": "display_data"
    }
   ],
   "source": [
    "income_nums = ordered_income_breakdown.Total_Respondents.values.tolist()\n",
    "plt.figure(figsize = (12,8))\n",
    "ax = plt.subplot()\n",
    "plt.bar(range(len(income_nums)), income_nums)\n",
    "labels = ordered_income_breakdown['Household Income'].values.tolist()\n",
    "ax.set_xticks(range(len(labels)))\n",
    "ax.set_xticklabels(labels)\n",
    "plt.ylabel('Respondents', rotation = 35, labelpad = 30)\n",
    "plt.xlabel('Income', labelpad = 10)\n",
    "plt.title('Star Wars Fans by Income (Annual Income)')\n",
    "#plt.savefig('SWfans_income.png')\n",
    "plt.show()"
   ]
  },
  {
   "cell_type": "markdown",
   "metadata": {},
   "source": [
    "# Breakdown of Fans by Education Level"
   ]
  },
  {
   "cell_type": "code",
   "execution_count": 23,
   "metadata": {},
   "outputs": [
    {
     "data": {
      "text/html": [
       "<div>\n",
       "<style scoped>\n",
       "    .dataframe tbody tr th:only-of-type {\n",
       "        vertical-align: middle;\n",
       "    }\n",
       "\n",
       "    .dataframe tbody tr th {\n",
       "        vertical-align: top;\n",
       "    }\n",
       "\n",
       "    .dataframe thead th {\n",
       "        text-align: right;\n",
       "    }\n",
       "</style>\n",
       "<table border=\"1\" class=\"dataframe\">\n",
       "  <thead>\n",
       "    <tr style=\"text-align: right;\">\n",
       "      <th></th>\n",
       "      <th>Education</th>\n",
       "      <th>Total_Respondents</th>\n",
       "      <th>Proportion of Respondents</th>\n",
       "    </tr>\n",
       "  </thead>\n",
       "  <tbody>\n",
       "    <tr>\n",
       "      <th>0</th>\n",
       "      <td>Less than high school degree</td>\n",
       "      <td>3</td>\n",
       "      <td>0.815217</td>\n",
       "    </tr>\n",
       "    <tr>\n",
       "      <th>1</th>\n",
       "      <td>High school degree</td>\n",
       "      <td>41</td>\n",
       "      <td>11.141304</td>\n",
       "    </tr>\n",
       "    <tr>\n",
       "      <th>2</th>\n",
       "      <td>Bachelor degree</td>\n",
       "      <td>172</td>\n",
       "      <td>46.739130</td>\n",
       "    </tr>\n",
       "    <tr>\n",
       "      <th>3</th>\n",
       "      <td>Graduate degree</td>\n",
       "      <td>152</td>\n",
       "      <td>41.304348</td>\n",
       "    </tr>\n",
       "  </tbody>\n",
       "</table>\n",
       "</div>"
      ],
      "text/plain": [
       "                      Education  Total_Respondents  Proportion of Respondents\n",
       "0  Less than high school degree                  3                   0.815217\n",
       "1            High school degree                 41                  11.141304\n",
       "2               Bachelor degree                172                  46.739130\n",
       "3               Graduate degree                152                  41.304348"
      ]
     },
     "execution_count": 23,
     "metadata": {},
     "output_type": "execute_result"
    }
   ],
   "source": [
    "education = fans.groupby('Education').RespondentID.count().reset_index()\n",
    "education_clean = education[education.Education != 'Response']\n",
    "\n",
    "education_ordered = education_clean.reindex([3, 2, 0, 1]).reset_index()\n",
    "\n",
    "total = sum(education_ordered.RespondentID.values)\n",
    "education_ordered['Proportion of Respondents'] = education_ordered.RespondentID.apply(lambda x: (x/total) * 100)\n",
    "education_ordered.rename(columns = {'RespondentID':'Total_Respondents'}, inplace = True)\n",
    "education_ordered.drop('index', axis = 1)"
   ]
  },
  {
   "cell_type": "markdown",
   "metadata": {},
   "source": [
    "The above data illustrates the number of fans as they are arranged by the highest level education degree they have earned. This is relatively unsurprising, given the age and income levels of the population sample surveyed. The largest concentration of fans have earned either a Bachelor's Degree or a Graduate Degree.\n",
    "\n",
    "The following data will illustrate how only the men in this survey are broken down by education level:"
   ]
  },
  {
   "cell_type": "code",
   "execution_count": 24,
   "metadata": {
    "scrolled": true
   },
   "outputs": [
    {
     "data": {
      "text/html": [
       "<div>\n",
       "<style scoped>\n",
       "    .dataframe tbody tr th:only-of-type {\n",
       "        vertical-align: middle;\n",
       "    }\n",
       "\n",
       "    .dataframe tbody tr th {\n",
       "        vertical-align: top;\n",
       "    }\n",
       "\n",
       "    .dataframe thead th {\n",
       "        text-align: right;\n",
       "    }\n",
       "</style>\n",
       "<table border=\"1\" class=\"dataframe\">\n",
       "  <thead>\n",
       "    <tr style=\"text-align: right;\">\n",
       "      <th></th>\n",
       "      <th>Education</th>\n",
       "      <th>Total_Respondents</th>\n",
       "      <th>Proportion of Respondents</th>\n",
       "    </tr>\n",
       "  </thead>\n",
       "  <tbody>\n",
       "    <tr>\n",
       "      <th>0</th>\n",
       "      <td>Less than high school degree</td>\n",
       "      <td>2</td>\n",
       "      <td>0.990099</td>\n",
       "    </tr>\n",
       "    <tr>\n",
       "      <th>1</th>\n",
       "      <td>High school degree</td>\n",
       "      <td>30</td>\n",
       "      <td>14.851485</td>\n",
       "    </tr>\n",
       "    <tr>\n",
       "      <th>2</th>\n",
       "      <td>Bachelor degree</td>\n",
       "      <td>90</td>\n",
       "      <td>44.554455</td>\n",
       "    </tr>\n",
       "    <tr>\n",
       "      <th>3</th>\n",
       "      <td>Graduate degree</td>\n",
       "      <td>80</td>\n",
       "      <td>39.603960</td>\n",
       "    </tr>\n",
       "  </tbody>\n",
       "</table>\n",
       "</div>"
      ],
      "text/plain": [
       "                      Education  Total_Respondents  Proportion of Respondents\n",
       "0  Less than high school degree                  2                   0.990099\n",
       "1            High school degree                 30                  14.851485\n",
       "2               Bachelor degree                 90                  44.554455\n",
       "3               Graduate degree                 80                  39.603960"
      ]
     },
     "execution_count": 24,
     "metadata": {},
     "output_type": "execute_result"
    }
   ],
   "source": [
    "men_fans = fans[fans.Gender == 'Male']\n",
    "education_men = men_fans.groupby('Education').RespondentID.count().reset_index()\n",
    "education_men_clean = education_men[education_men.Education != 'Response']\n",
    "ordered_men = education_men_clean.reindex([3, 2, 0, 1]).reset_index()\n",
    "total_1 = sum(ordered_men.RespondentID.values)\n",
    "ordered_men['Proportion of Respondents'] = ordered_men.RespondentID.apply(lambda x: (x/total_1) * 100)\n",
    "ordered_men.rename(columns = {'RespondentID':'Total_Respondents'}, inplace = True)\n",
    "ordered_men.drop('index', axis = 1)"
   ]
  },
  {
   "cell_type": "code",
   "execution_count": 25,
   "metadata": {},
   "outputs": [
    {
     "name": "stdout",
     "output_type": "stream",
     "text": [
      "Confidence interval for proportion: (0.40398550724637683 - 0.48731884057971014)\n"
     ]
    },
    {
     "data": {
      "image/png": "[encoded data removed]",
      "text/plain": [
       "<Figure size 504x288 with 1 Axes>"
      ]
     },
     "metadata": {
      "needs_background": "light"
     },
     "output_type": "display_data"
    }
   ],
   "source": [
    "sample(ordered_men, ordered_men['Education'], ordered_men['Education'][2])"
   ]
  },
  {
   "cell_type": "code",
   "execution_count": 26,
   "metadata": {},
   "outputs": [
    {
     "name": "stdout",
     "output_type": "stream",
     "text": [
      "Confidence interval for proportion: (0.35321557971014494 - 0.4384057971014493)\n"
     ]
    },
    {
     "data": {
      "image/png": "[encoded data removed]",
      "text/plain": [
       "<Figure size 504x288 with 1 Axes>"
      ]
     },
     "metadata": {
      "needs_background": "light"
     },
     "output_type": "display_data"
    }
   ],
   "source": [
    "sample(ordered_men, ordered_men['Education'], ordered_men['Education'][3])"
   ]
  },
  {
   "cell_type": "markdown",
   "metadata": {},
   "source": [
    "The proportion of fans appears to be very similar, indicating that there is no statistically different education level for men from the entire population. The total number of fans in both the whole sample and the male only education breakdown will be now compared with a chi squared homogeneity test:"
   ]
  },
  {
   "cell_type": "code",
   "execution_count": 27,
   "metadata": {
    "scrolled": true
   },
   "outputs": [
    {
     "name": "stdout",
     "output_type": "stream",
     "text": [
      "[[3, 41, 172, 152], [2, 30, 90, 80]]\n",
      "0.6336595585471168\n"
     ]
    }
   ],
   "source": [
    "pop_lists = [education_ordered['Total_Respondents'].values.tolist(), ordered_men['Total_Respondents'].values.tolist()]\n",
    "print(pop_lists)\n",
    "chi_2, pval = st.chi2_homogeneity(pop_lists)\n",
    "print(pval)"
   ]
  },
  {
   "cell_type": "markdown",
   "metadata": {},
   "source": [
    "Given the probability of the null hypothesis being over 5%, we fail to reject. It appears that the distribution of male fans by education level are not significanlty different from the population distribution by education level in terms of Star Wars fans.\n",
    "\n",
    "## Graph of Education Breakdown - Whole Population and Only Male"
   ]
  },
  {
   "cell_type": "code",
   "execution_count": 28,
   "metadata": {},
   "outputs": [
    {
     "data": {
      "image/png": "[encoded data removed]",
      "text/plain": [
       "<Figure size 1008x576 with 2 Axes>"
      ]
     },
     "metadata": {},
     "output_type": "display_data"
    }
   ],
   "source": [
    "plt.figure(figsize = (14,8))\n",
    "ax = plt.subplot(1,2,1)\n",
    "plt.pie(education_ordered.Total_Respondents.values)\n",
    "plt.axis('equal')\n",
    "plt.title('Star Wars Fans by\\n Education Level (Both Genders)')\n",
    "ax_1 = plt.subplot(1,2,2)\n",
    "plt.pie(ordered_men.Total_Respondents.values)\n",
    "plt.axis('equal')\n",
    "plt.title('Star Wars Fans by\\n Education Level (Men Only)')\n",
    "plt.legend(ordered_men.Education.values, loc = 2)\n",
    "#plt.savefig('SWfans_education.png')\n",
    "plt.show()"
   ]
  },
  {
   "cell_type": "markdown",
   "metadata": {},
   "source": [
    "As can be shown, there is no significant apparent difference, and the vast majority of fans have a Bachelor's and/or Graduate Degree."
   ]
  },
  {
   "cell_type": "markdown",
   "metadata": {},
   "source": [
    "# Breakdown of Fans by Region"
   ]
  },
  {
   "cell_type": "markdown",
   "metadata": {},
   "source": [
    "Can it be shown that any particular region of the US has a higher concentration of fans? Here are the results as shown in the survey:"
   ]
  },
  {
   "cell_type": "code",
   "execution_count": 29,
   "metadata": {},
   "outputs": [
    {
     "data": {
      "text/html": [
       "<div>\n",
       "<style scoped>\n",
       "    .dataframe tbody tr th:only-of-type {\n",
       "        vertical-align: middle;\n",
       "    }\n",
       "\n",
       "    .dataframe tbody tr th {\n",
       "        vertical-align: top;\n",
       "    }\n",
       "\n",
       "    .dataframe thead th {\n",
       "        text-align: right;\n",
       "    }\n",
       "</style>\n",
       "<table border=\"1\" class=\"dataframe\">\n",
       "  <thead>\n",
       "    <tr style=\"text-align: right;\">\n",
       "      <th></th>\n",
       "      <th>Location (Census Region)</th>\n",
       "      <th>Total_Respondents</th>\n",
       "    </tr>\n",
       "  </thead>\n",
       "  <tbody>\n",
       "    <tr>\n",
       "      <th>0</th>\n",
       "      <td>East North Central</td>\n",
       "      <td>84</td>\n",
       "    </tr>\n",
       "    <tr>\n",
       "      <th>1</th>\n",
       "      <td>East South Central</td>\n",
       "      <td>20</td>\n",
       "    </tr>\n",
       "    <tr>\n",
       "      <th>2</th>\n",
       "      <td>Middle Atlantic</td>\n",
       "      <td>64</td>\n",
       "    </tr>\n",
       "    <tr>\n",
       "      <th>3</th>\n",
       "      <td>Mountain</td>\n",
       "      <td>49</td>\n",
       "    </tr>\n",
       "    <tr>\n",
       "      <th>4</th>\n",
       "      <td>New England</td>\n",
       "      <td>44</td>\n",
       "    </tr>\n",
       "    <tr>\n",
       "      <th>5</th>\n",
       "      <td>Pacific</td>\n",
       "      <td>86</td>\n",
       "    </tr>\n",
       "    <tr>\n",
       "      <th>6</th>\n",
       "      <td>South Atlantic</td>\n",
       "      <td>88</td>\n",
       "    </tr>\n",
       "    <tr>\n",
       "      <th>7</th>\n",
       "      <td>West North Central</td>\n",
       "      <td>53</td>\n",
       "    </tr>\n",
       "    <tr>\n",
       "      <th>8</th>\n",
       "      <td>West South Central</td>\n",
       "      <td>53</td>\n",
       "    </tr>\n",
       "  </tbody>\n",
       "</table>\n",
       "</div>"
      ],
      "text/plain": [
       "  Location (Census Region)  Total_Respondents\n",
       "0       East North Central                 84\n",
       "1       East South Central                 20\n",
       "2          Middle Atlantic                 64\n",
       "3                 Mountain                 49\n",
       "4              New England                 44\n",
       "5                  Pacific                 86\n",
       "6           South Atlantic                 88\n",
       "7       West North Central                 53\n",
       "8       West South Central                 53"
      ]
     },
     "execution_count": 29,
     "metadata": {},
     "output_type": "execute_result"
    }
   ],
   "source": [
    "region = fans.groupby('Location (Census Region)').RespondentID.count().reset_index()\n",
    "region_clean = region[region['Location (Census Region)'] != 'Response']\n",
    "ordered_region = region_clean#.reindex([0,1,8,9,5,2,7,3,4]).reset_index()\n",
    "ordered_region.rename(columns = {'RespondentID':'Total_Respondents'}, inplace = True)\n",
    "ordered_region = ordered_region[['Location (Census Region)', 'Total_Respondents']]\n",
    "#ordered_region.drop(index = 3, inplace = True)\n",
    "ordered_region"
   ]
  },
  {
   "cell_type": "code",
   "execution_count": 30,
   "metadata": {},
   "outputs": [],
   "source": [
    "total = ordered_region.Total_Respondents.sum()\n",
    "ordered_region['Proportion of Respondents'] = ordered_region.apply(lambda row:\\\n",
    "                                                            row.Total_Respondents / total * 100, axis = 1)"
   ]
  },
  {
   "cell_type": "code",
   "execution_count": 31,
   "metadata": {},
   "outputs": [
    {
     "data": {
      "text/html": [
       "<div>\n",
       "<style scoped>\n",
       "    .dataframe tbody tr th:only-of-type {\n",
       "        vertical-align: middle;\n",
       "    }\n",
       "\n",
       "    .dataframe tbody tr th {\n",
       "        vertical-align: top;\n",
       "    }\n",
       "\n",
       "    .dataframe thead th {\n",
       "        text-align: right;\n",
       "    }\n",
       "</style>\n",
       "<table border=\"1\" class=\"dataframe\">\n",
       "  <thead>\n",
       "    <tr style=\"text-align: right;\">\n",
       "      <th></th>\n",
       "      <th>Location (Census Region)</th>\n",
       "      <th>Total_Respondents</th>\n",
       "      <th>Proportion of Respondents</th>\n",
       "    </tr>\n",
       "  </thead>\n",
       "  <tbody>\n",
       "    <tr>\n",
       "      <th>0</th>\n",
       "      <td>East North Central</td>\n",
       "      <td>84</td>\n",
       "      <td>15.526802</td>\n",
       "    </tr>\n",
       "    <tr>\n",
       "      <th>1</th>\n",
       "      <td>East South Central</td>\n",
       "      <td>20</td>\n",
       "      <td>3.696858</td>\n",
       "    </tr>\n",
       "    <tr>\n",
       "      <th>2</th>\n",
       "      <td>Middle Atlantic</td>\n",
       "      <td>64</td>\n",
       "      <td>11.829945</td>\n",
       "    </tr>\n",
       "    <tr>\n",
       "      <th>3</th>\n",
       "      <td>Mountain</td>\n",
       "      <td>49</td>\n",
       "      <td>9.057301</td>\n",
       "    </tr>\n",
       "    <tr>\n",
       "      <th>4</th>\n",
       "      <td>New England</td>\n",
       "      <td>44</td>\n",
       "      <td>8.133087</td>\n",
       "    </tr>\n",
       "    <tr>\n",
       "      <th>5</th>\n",
       "      <td>Pacific</td>\n",
       "      <td>86</td>\n",
       "      <td>15.896488</td>\n",
       "    </tr>\n",
       "    <tr>\n",
       "      <th>6</th>\n",
       "      <td>South Atlantic</td>\n",
       "      <td>88</td>\n",
       "      <td>16.266174</td>\n",
       "    </tr>\n",
       "    <tr>\n",
       "      <th>7</th>\n",
       "      <td>West North Central</td>\n",
       "      <td>53</td>\n",
       "      <td>9.796673</td>\n",
       "    </tr>\n",
       "    <tr>\n",
       "      <th>8</th>\n",
       "      <td>West South Central</td>\n",
       "      <td>53</td>\n",
       "      <td>9.796673</td>\n",
       "    </tr>\n",
       "  </tbody>\n",
       "</table>\n",
       "</div>"
      ],
      "text/plain": [
       "  Location (Census Region)  Total_Respondents  Proportion of Respondents\n",
       "0       East North Central                 84                  15.526802\n",
       "1       East South Central                 20                   3.696858\n",
       "2          Middle Atlantic                 64                  11.829945\n",
       "3                 Mountain                 49                   9.057301\n",
       "4              New England                 44                   8.133087\n",
       "5                  Pacific                 86                  15.896488\n",
       "6           South Atlantic                 88                  16.266174\n",
       "7       West North Central                 53                   9.796673\n",
       "8       West South Central                 53                   9.796673"
      ]
     },
     "execution_count": 31,
     "metadata": {},
     "output_type": "execute_result"
    }
   ],
   "source": [
    "ordered_region"
   ]
  },
  {
   "cell_type": "code",
   "execution_count": 32,
   "metadata": {},
   "outputs": [
    {
     "data": {
      "image/png": "[encoded data removed]",
      "text/plain": [
       "<Figure size 1008x720 with 1 Axes>"
      ]
     },
     "metadata": {
      "needs_background": "light"
     },
     "output_type": "display_data"
    }
   ],
   "source": [
    "y = ordered_region.Total_Respondents.values.tolist()\n",
    "x = range(len(y))\n",
    "labels = ordered_region['Location (Census Region)'].values.tolist()\n",
    "plt.figure(figsize = (14, 10))\n",
    "ax = plt.subplot()\n",
    "ax.grid(zorder = 0)\n",
    "plt.bar(x, y, zorder = 3)\n",
    "plt.xlabel('Region', labelpad = 8)\n",
    "plt.ylabel('Number of Respondents')\n",
    "ax.set_xticks(range(len(labels)))\n",
    "ax.set_xticklabels(labels, rotation = 40)\n",
    "plt.title('Breakdown of Respondents by Region')\n",
    "#plt.savefig('Respondents_by_region.png')\n",
    "plt.show()"
   ]
  },
  {
   "cell_type": "code",
   "execution_count": 33,
   "metadata": {},
   "outputs": [
    {
     "name": "stdout",
     "output_type": "stream",
     "text": [
      "[84, 20, 64, 49, 44, 86, 88, 53, 53]\n",
      "9.101990908588069e-12\n"
     ]
    }
   ],
   "source": [
    "regions = ordered_region['Total_Respondents'].values.tolist()\n",
    "print(regions)\n",
    "chi_2, pval = chisquare(regions)\n",
    "print(pval)"
   ]
  },
  {
   "cell_type": "code",
   "execution_count": 34,
   "metadata": {
    "scrolled": true
   },
   "outputs": [
    {
     "name": "stdout",
     "output_type": "stream",
     "text": [
      "Confidence interval for proportion: (0.1322463768115942 - 0.19384057971014493)\n"
     ]
    },
    {
     "data": {
      "image/png": "[encoded data removed]",
      "text/plain": [
       "<Figure size 504x288 with 1 Axes>"
      ]
     },
     "metadata": {
      "needs_background": "light"
     },
     "output_type": "display_data"
    }
   ],
   "source": [
    "sample(ordered_region, ordered_region['Location (Census Region)'],ordered_region['Location (Census Region)'][6])"
   ]
  },
  {
   "cell_type": "code",
   "execution_count": 35,
   "metadata": {},
   "outputs": [
    {
     "data": {
      "text/plain": [
       "(0.13156300919642058, 0.19376046584979015)"
      ]
     },
     "execution_count": 35,
     "metadata": {},
     "output_type": "execute_result"
    }
   ],
   "source": [
    "st.z_conf_intv((ordered_region['Proportion of Respondents'][6] / 100), ordered_region.Total_Respondents.sum())"
   ]
  },
  {
   "cell_type": "code",
   "execution_count": 36,
   "metadata": {
    "scrolled": true
   },
   "outputs": [
    {
     "name": "stdout",
     "output_type": "stream",
     "text": [
      "Confidence interval for proportion: (0.12681159420289856 - 0.18478260869565216)\n"
     ]
    },
    {
     "data": {
      "image/png": "[encoded data removed]",
      "text/plain": [
       "<Figure size 504x288 with 1 Axes>"
      ]
     },
     "metadata": {
      "needs_background": "light"
     },
     "output_type": "display_data"
    }
   ],
   "source": [
    "sample(ordered_region, ordered_region['Location (Census Region)'],ordered_region['Location (Census Region)'][0])"
   ]
  },
  {
   "cell_type": "code",
   "execution_count": 37,
   "metadata": {},
   "outputs": [
    {
     "data": {
      "text/plain": [
       "(0.12475045309377247, 0.18578559126851957)"
      ]
     },
     "execution_count": 37,
     "metadata": {},
     "output_type": "execute_result"
    }
   ],
   "source": [
    "st.z_conf_intv((ordered_region['Proportion of Respondents'][0] / 100), ordered_region.Total_Respondents.sum())"
   ]
  },
  {
   "cell_type": "code",
   "execution_count": 38,
   "metadata": {
    "scrolled": false
   },
   "outputs": [
    {
     "name": "stdout",
     "output_type": "stream",
     "text": [
      "Confidence interval for proportion: (0.1286231884057971 - 0.19202898550724634)\n"
     ]
    },
    {
     "data": {
      "image/png": "[encoded data removed]",
      "text/plain": [
       "<Figure size 504x288 with 1 Axes>"
      ]
     },
     "metadata": {
      "needs_background": "light"
     },
     "output_type": "display_data"
    }
   ],
   "source": [
    "sample(ordered_region, ordered_region['Location (Census Region)'],ordered_region['Location (Census Region)'][5])"
   ]
  },
  {
   "cell_type": "code",
   "execution_count": 39,
   "metadata": {},
   "outputs": [
    {
     "data": {
      "text/plain": [
       "(0.12815378596848598, 0.18977597373576544)"
      ]
     },
     "execution_count": 39,
     "metadata": {},
     "output_type": "execute_result"
    }
   ],
   "source": [
    "st.z_conf_intv((ordered_region['Proportion of Respondents'][5] / 100), ordered_region.Total_Respondents.sum())"
   ]
  },
  {
   "cell_type": "markdown",
   "metadata": {},
   "source": [
    "Analyzing the distribution of fans in these regions from the samples provided, there seems to be evidence that Star Wars fans are not evenly distributed throughout these regions. The sample data suggests there to be a higher concentration of fans in the East North Central, South Atlantic, and Pacific US regions, each having a confidence interval of about 13% - 19% of the proportion of fans being in these areas.\n",
    "\n",
    "The fewest fans are the East South Central region. All other regions are much closer to evenly distributed among each other."
   ]
  },
  {
   "cell_type": "markdown",
   "metadata": {},
   "source": [
    "## Who Shot First, Han or Greedo?\n",
    "\n",
    "A popular and ongoing debate among Star Wars fans is the simple question of \"who shot first\" in an infamous scene of the first movie made in the franchise. Because of the popularity of this scene among fans, it has a strong potential to be utilized for favorable response in advertisements. This is meant to help get a measure of public opinion on what the answer is (or if they are aware of it at all).\n",
    "\n",
    "The first question to ask - is this Star Wars meme so popular that even people who aren't fans resonate with it? One way to examine this is to construct a hypothesis test with the null hypothesis that there is no difference between the most popular response and the proportion of people who do not resonate at all. If this is rejected, we can further identify if there's a clear significant difference between the responses of \"Han\" or \"Greedo.\" \n",
    "\n",
    "I will conduct this first for the entire survey sample, then again for just fans, to analyze the reception of public opinion."
   ]
  },
  {
   "cell_type": "code",
   "execution_count": 40,
   "metadata": {},
   "outputs": [],
   "source": [
    "shot_first = df['Which character shot first?'].value_counts().reset_index()"
   ]
  },
  {
   "cell_type": "code",
   "execution_count": 41,
   "metadata": {
    "scrolled": true
   },
   "outputs": [
    {
     "data": {
      "text/html": [
       "<div>\n",
       "<style scoped>\n",
       "    .dataframe tbody tr th:only-of-type {\n",
       "        vertical-align: middle;\n",
       "    }\n",
       "\n",
       "    .dataframe tbody tr th {\n",
       "        vertical-align: top;\n",
       "    }\n",
       "\n",
       "    .dataframe thead th {\n",
       "        text-align: right;\n",
       "    }\n",
       "</style>\n",
       "<table border=\"1\" class=\"dataframe\">\n",
       "  <thead>\n",
       "    <tr style=\"text-align: right;\">\n",
       "      <th></th>\n",
       "      <th>index</th>\n",
       "      <th>Which character shot first?</th>\n",
       "      <th>Proportion of Respondents</th>\n",
       "    </tr>\n",
       "  </thead>\n",
       "  <tbody>\n",
       "    <tr>\n",
       "      <th>0</th>\n",
       "      <td>Han</td>\n",
       "      <td>325</td>\n",
       "      <td>39.203860</td>\n",
       "    </tr>\n",
       "    <tr>\n",
       "      <th>1</th>\n",
       "      <td>I don't understand this question</td>\n",
       "      <td>306</td>\n",
       "      <td>36.911942</td>\n",
       "    </tr>\n",
       "    <tr>\n",
       "      <th>2</th>\n",
       "      <td>Greedo</td>\n",
       "      <td>197</td>\n",
       "      <td>23.763571</td>\n",
       "    </tr>\n",
       "  </tbody>\n",
       "</table>\n",
       "</div>"
      ],
      "text/plain": [
       "                              index  Which character shot first?  \\\n",
       "0                               Han                          325   \n",
       "1  I don't understand this question                          306   \n",
       "2                            Greedo                          197   \n",
       "\n",
       "   Proportion of Respondents  \n",
       "0                  39.203860  \n",
       "1                  36.911942  \n",
       "2                  23.763571  "
      ]
     },
     "execution_count": 41,
     "metadata": {},
     "output_type": "execute_result"
    }
   ],
   "source": [
    "total = shot_first['Which character shot first?'].sum()\n",
    "shot_first['Proportion of Respondents'] = shot_first.apply(lambda row: row['Which character shot first?'] / total*100,\\\n",
    "                                                          axis = 1)\n",
    "shot_first = shot_first[shot_first['index'] != 'Response']\n",
    "shot_first"
   ]
  },
  {
   "cell_type": "code",
   "execution_count": 42,
   "metadata": {},
   "outputs": [
    {
     "data": {
      "text/plain": [
       "(-0.06964750319847457, 0.023809143729234483)"
      ]
     },
     "execution_count": 42,
     "metadata": {},
     "output_type": "execute_result"
    }
   ],
   "source": [
    "st.diff_z_intv(shot_first['Proportion of Respondents'][1] / 100, total,\\\n",
    "               shot_first['Proportion of Respondents'][0] / 100, total)"
   ]
  },
  {
   "cell_type": "markdown",
   "metadata": {},
   "source": [
    "This function returns the confidence interval at 95% confidence of the difference between two proportions. In this case, we are looking at the difference between the proportion of respondents who are not aware of the meaning of this meme question and the proportion who hold the most popular response - that Han Solo shot first. Note that the interval captures 0, meaning that there is a greater than 5% p-value that the null hypothesis is true. Therefore I fail to reject the null hypothesis that there is no difference between the most popular survey response (that Han shot first) and a complete lack of resonance with the meme at all (I don't understand the question).\n",
    "\n",
    "Now, let's repeat this analyis viewing only current fans of the Star Wars franchise."
   ]
  },
  {
   "cell_type": "code",
   "execution_count": 43,
   "metadata": {},
   "outputs": [],
   "source": [
    "shot_first_fans = fans['Which character shot first?'].value_counts().reset_index()"
   ]
  },
  {
   "cell_type": "code",
   "execution_count": 44,
   "metadata": {
    "scrolled": true
   },
   "outputs": [
    {
     "data": {
      "text/html": [
       "<div>\n",
       "<style scoped>\n",
       "    .dataframe tbody tr th:only-of-type {\n",
       "        vertical-align: middle;\n",
       "    }\n",
       "\n",
       "    .dataframe tbody tr th {\n",
       "        vertical-align: top;\n",
       "    }\n",
       "\n",
       "    .dataframe thead th {\n",
       "        text-align: right;\n",
       "    }\n",
       "</style>\n",
       "<table border=\"1\" class=\"dataframe\">\n",
       "  <thead>\n",
       "    <tr style=\"text-align: right;\">\n",
       "      <th></th>\n",
       "      <th>index</th>\n",
       "      <th>Which character shot first?</th>\n",
       "      <th>Proportion of Respondents</th>\n",
       "    </tr>\n",
       "  </thead>\n",
       "  <tbody>\n",
       "    <tr>\n",
       "      <th>0</th>\n",
       "      <td>Han</td>\n",
       "      <td>268</td>\n",
       "      <td>49.174312</td>\n",
       "    </tr>\n",
       "    <tr>\n",
       "      <th>1</th>\n",
       "      <td>Greedo</td>\n",
       "      <td>151</td>\n",
       "      <td>27.706422</td>\n",
       "    </tr>\n",
       "    <tr>\n",
       "      <th>2</th>\n",
       "      <td>I don't understand this question</td>\n",
       "      <td>126</td>\n",
       "      <td>23.119266</td>\n",
       "    </tr>\n",
       "  </tbody>\n",
       "</table>\n",
       "</div>"
      ],
      "text/plain": [
       "                              index  Which character shot first?  \\\n",
       "0                               Han                          268   \n",
       "1                            Greedo                          151   \n",
       "2  I don't understand this question                          126   \n",
       "\n",
       "   Proportion of Respondents  \n",
       "0                  49.174312  \n",
       "1                  27.706422  \n",
       "2                  23.119266  "
      ]
     },
     "execution_count": 44,
     "metadata": {},
     "output_type": "execute_result"
    }
   ],
   "source": [
    "total = shot_first_fans['Which character shot first?'].sum()\n",
    "shot_first_fans['Proportion of Respondents'] = shot_first_fans.apply(lambda row: row['Which character shot first?']\\\n",
    "                                                                     / total*100, axis = 1)\n",
    "shot_first_fans"
   ]
  },
  {
   "cell_type": "code",
   "execution_count": 45,
   "metadata": {},
   "outputs": [
    {
     "data": {
      "text/plain": [
       "(0.20564614256490177, 0.3154547748662909)"
      ]
     },
     "execution_count": 45,
     "metadata": {},
     "output_type": "execute_result"
    }
   ],
   "source": [
    "#Test between most popular response and lack of resonance with question:\n",
    "st.diff_z_intv(shot_first_fans['Proportion of Respondents'][0] / 100, total,\\\n",
    "               shot_first_fans['Proportion of Respondents'][2] / 100, total)"
   ]
  },
  {
   "cell_type": "markdown",
   "metadata": {},
   "source": [
    "There is here a very clear interval that does not capture zero, so at a 5% alpha I reject the null hypothesis. This implies evidence that the alternative hypothesis is true - among fans, there is a significant resonance with this meme question in the Star Wars universe. Now it remains to see what we can infer about the actual proportion of responses in the population:"
   ]
  },
  {
   "cell_type": "code",
   "execution_count": 46,
   "metadata": {},
   "outputs": [
    {
     "name": "stdout",
     "output_type": "stream",
     "text": [
      "Confidence interval for proportion: (0.447463768115942 - 0.5344202898550725)\n"
     ]
    },
    {
     "data": {
      "image/png": "[encoded data removed]",
      "text/plain": [
       "<Figure size 504x288 with 1 Axes>"
      ]
     },
     "metadata": {
      "needs_background": "light"
     },
     "output_type": "display_data"
    }
   ],
   "source": [
    "sample(shot_first_fans, shot_first_fans['index'].values,shot_first_fans['index'].values[0])"
   ]
  },
  {
   "cell_type": "code",
   "execution_count": 47,
   "metadata": {
    "scrolled": true
   },
   "outputs": [
    {
     "name": "stdout",
     "output_type": "stream",
     "text": [
      "Confidence interval for proportion: (0.2391304347826087 - 0.31521739130434784)\n"
     ]
    },
    {
     "data": {
      "image/png": "[encoded data removed]",
      "text/plain": [
       "<Figure size 504x288 with 1 Axes>"
      ]
     },
     "metadata": {
      "needs_background": "light"
     },
     "output_type": "display_data"
    }
   ],
   "source": [
    "sample(shot_first_fans, shot_first_fans['index'].values,shot_first_fans['index'].values[1])"
   ]
  },
  {
   "cell_type": "code",
   "execution_count": 48,
   "metadata": {
    "scrolled": true
   },
   "outputs": [
    {
     "data": {
      "text/plain": [
       "(0.15834526611117603, 0.2710125320539616)"
      ]
     },
     "execution_count": 48,
     "metadata": {},
     "output_type": "execute_result"
    }
   ],
   "source": [
    "#Test between two responses:\n",
    "st.diff_z_intv(shot_first_fans['Proportion of Respondents'][0] / 100, total,\\\n",
    "               shot_first_fans['Proportion of Respondents'][1] / 100, total)"
   ]
  },
  {
   "cell_type": "code",
   "execution_count": 49,
   "metadata": {},
   "outputs": [
    {
     "data": {
      "text/plain": [
       "Text(0.5, 1.0, 'Fans answer: Who shot first?')"
      ]
     },
     "execution_count": 49,
     "metadata": {},
     "output_type": "execute_result"
    },
    {
     "data": {
      "image/png": "[encoded data removed]",
      "text/plain": [
       "<Figure size 648x504 with 1 Axes>"
      ]
     },
     "metadata": {
      "needs_background": "light"
     },
     "output_type": "display_data"
    }
   ],
   "source": [
    "shot_first_fans.plot.bar('index', 'Which character shot first?',\\\n",
    "                         color = ['skyblue', 'lightgreen', 'grey'], zorder = 3,figsize = (9,7))\n",
    "plt.xticks(rotation = 20)\n",
    "plt.grid(True, zorder = 0)\n",
    "plt.ylabel('Total Responses')\n",
    "plt.xlabel('Answers')\n",
    "plt.title(\"Fans answer: Who shot first?\")\n",
    "#plt.savefig('who_shot_first.png')"
   ]
  },
  {
   "cell_type": "markdown",
   "metadata": {},
   "source": [
    "The result of the above information is that most fans believe that Han short first (likely between 45% - 53% of the population of fans), which is significantly more than the proportion of fans that beieve Greedo shot first (it is likely that between 17% - 26% more fans believe that Han shot first than that Greedo shot first). \n",
    "\n",
    "Therefore, it appears that, among fans, there is a strong and clear majority opinion on this meme, and that advertisements focused on current fans may prove effective if utilizing it in a strategy. However, advertisements focused on people who are not fans - perhaps with interest in bringing them into the Star Wars franchise - will not likely be as effective if utilizing this meme as a part of its marketing strategy, as it appears to be largely unknown among the general population when not considering only current fans."
   ]
  },
  {
   "cell_type": "markdown",
   "metadata": {},
   "source": [
    "# Conclusion"
   ]
  },
  {
   "cell_type": "markdown",
   "metadata": {},
   "source": [
    "Based off of the study conducted, the following demographic types are the most likely to positively respond to future marketing campaigns centered on the Star Wars franchise:\n",
    "\n",
    "* Gender - Male\n",
    "* Age range - 18-44\n",
    "* Income level - \\\\$50,000 - \\\\$99,000\n",
    "* Education Level - Bachelor's Degree and higher\n",
    "* Ideal Marketing Regions - East North Central, South Atlantic, Pacific\n",
    "* Least Ideal Marketing Region - East South Central\n",
    "* Han definitely shot first (but only fans resonate with this)\n",
    "\n",
    "We can state with confidence, based on this study, that utilizing marketing strategies known to be effective with these demographic types, focused on the regions listed, are likely to be effective."
   ]
  },
  {
   "cell_type": "markdown",
   "metadata": {},
   "source": [
    "# Recommendations following this survey study\n",
    "This survey has suggested many potential demographics that will be more highly receptive to Star Wars marketing campaigns. However, as this is a preliminary observation, it would be most appropriate to formally test this data with an A/B test, comparing marketing strategies targeting these demographics with previous ad campaign strategies. A separate consultation would be helpful, to get information on recommending an appropriate sample size for each group. For example, if a marketing campaign has been shown to have 30% success, and there is interest in seeing no less an increase than to 35% success (about a 17% lift), we can expect results with 95% confidence with 840 samples per variation."
   ]
  }
 ],
 "metadata": {
  "kernelspec": {
   "display_name": "Python 3",
   "language": "python",
   "name": "python3"
  },
  "language_info": {
   "codemirror_mode": {
    "name": "ipython",
    "version": 3
   },
   "file_extension": ".py",
   "mimetype": "text/x-python",
   "name": "python",
   "nbconvert_exporter": "python",
   "pygments_lexer": "ipython3",
   "version": "3.7.3"
  }
 },
 "nbformat": 4,
 "nbformat_minor": 4
}
